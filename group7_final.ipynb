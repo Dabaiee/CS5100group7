{
  "cells": [
    {
      "cell_type": "markdown",
      "metadata": {
        "id": "view-in-github",
        "colab_type": "text"
      },
      "source": [
        "<a href=\"https://colab.research.google.com/github/Dabaiee/CS5100group7/blob/renyong/group7_final.ipynb\" target=\"_parent\"><img src=\"https://colab.research.google.com/assets/colab-badge.svg\" alt=\"Open In Colab\"/></a>"
      ]
    },
    {
      "cell_type": "code",
      "execution_count": 1,
      "metadata": {
        "id": "ZVqARq2_plCI"
      },
      "outputs": [],
      "source": [
        "# pip install keras \n",
        "import math\n",
        "import pandas_datareader as web\n",
        "import numpy as np\n",
        "import pandas as pd\n",
        "import datetime as dt\n",
        "\n",
        "from sklearn.preprocessing import MinMaxScaler\n",
        "from keras.models import Sequential\n",
        "from keras.layers import Dense, LSTM\n",
        "import matplotlib.pyplot as plt\n",
        "plt.style.use('fivethirtyeight')"
      ]
    },
    {
      "cell_type": "markdown",
      "metadata": {
        "id": "eFpHL1ZvplCJ"
      },
      "source": [
        "# Load the data"
      ]
    },
    {
      "cell_type": "code",
      "execution_count": 2,
      "metadata": {
        "id": "Fcyo5mIdplCK",
        "colab": {
          "base_uri": "https://localhost:8080/",
          "height": 424
        },
        "outputId": "fc3c9510-552a-4562-8750-c04c9b845536"
      },
      "outputs": [
        {
          "output_type": "execute_result",
          "data": {
            "text/plain": [
              "            Date         Open         High          Low        Close  \\\n",
              "0     2017-11-09   308.644989   329.451996   307.056000   320.884003   \n",
              "1     2017-11-10   320.670990   324.717987   294.541992   299.252991   \n",
              "2     2017-11-11   298.585999   319.453003   298.191986   314.681000   \n",
              "3     2017-11-12   314.690002   319.153015   298.513000   307.907990   \n",
              "4     2017-11-13   307.024994   328.415009   307.024994   316.716003   \n",
              "...          ...          ...          ...          ...          ...   \n",
              "1828  2022-11-11  1298.882446  1302.295288  1211.329590  1287.221069   \n",
              "1829  2022-11-12  1287.438354  1288.150879  1242.152222  1255.268311   \n",
              "1830  2022-11-13  1255.441284  1271.712524  1208.520996  1221.819214   \n",
              "1831  2022-11-14  1221.895508  1284.217651  1178.429077  1241.604248   \n",
              "1832  2022-11-15  1241.773926  1282.823608  1238.688232  1253.259399   \n",
              "\n",
              "        Adj Close       Volume  \n",
              "0      320.884003    893249984  \n",
              "1      299.252991    885985984  \n",
              "2      314.681000    842300992  \n",
              "3      307.907990   1613479936  \n",
              "4      316.716003   1041889984  \n",
              "...           ...          ...  \n",
              "1828  1287.221069  20920539099  \n",
              "1829  1255.268311  10964962767  \n",
              "1830  1221.819214  10717455214  \n",
              "1831  1241.604248  15028035663  \n",
              "1832  1253.259399  12138597376  \n",
              "\n",
              "[1833 rows x 7 columns]"
            ],
            "text/html": [
              "\n",
              "  <div id=\"df-4acc7b62-6e46-4ce8-aa38-3f00cc1ee377\">\n",
              "    <div class=\"colab-df-container\">\n",
              "      <div>\n",
              "<style scoped>\n",
              "    .dataframe tbody tr th:only-of-type {\n",
              "        vertical-align: middle;\n",
              "    }\n",
              "\n",
              "    .dataframe tbody tr th {\n",
              "        vertical-align: top;\n",
              "    }\n",
              "\n",
              "    .dataframe thead th {\n",
              "        text-align: right;\n",
              "    }\n",
              "</style>\n",
              "<table border=\"1\" class=\"dataframe\">\n",
              "  <thead>\n",
              "    <tr style=\"text-align: right;\">\n",
              "      <th></th>\n",
              "      <th>Date</th>\n",
              "      <th>Open</th>\n",
              "      <th>High</th>\n",
              "      <th>Low</th>\n",
              "      <th>Close</th>\n",
              "      <th>Adj Close</th>\n",
              "      <th>Volume</th>\n",
              "    </tr>\n",
              "  </thead>\n",
              "  <tbody>\n",
              "    <tr>\n",
              "      <th>0</th>\n",
              "      <td>2017-11-09</td>\n",
              "      <td>308.644989</td>\n",
              "      <td>329.451996</td>\n",
              "      <td>307.056000</td>\n",
              "      <td>320.884003</td>\n",
              "      <td>320.884003</td>\n",
              "      <td>893249984</td>\n",
              "    </tr>\n",
              "    <tr>\n",
              "      <th>1</th>\n",
              "      <td>2017-11-10</td>\n",
              "      <td>320.670990</td>\n",
              "      <td>324.717987</td>\n",
              "      <td>294.541992</td>\n",
              "      <td>299.252991</td>\n",
              "      <td>299.252991</td>\n",
              "      <td>885985984</td>\n",
              "    </tr>\n",
              "    <tr>\n",
              "      <th>2</th>\n",
              "      <td>2017-11-11</td>\n",
              "      <td>298.585999</td>\n",
              "      <td>319.453003</td>\n",
              "      <td>298.191986</td>\n",
              "      <td>314.681000</td>\n",
              "      <td>314.681000</td>\n",
              "      <td>842300992</td>\n",
              "    </tr>\n",
              "    <tr>\n",
              "      <th>3</th>\n",
              "      <td>2017-11-12</td>\n",
              "      <td>314.690002</td>\n",
              "      <td>319.153015</td>\n",
              "      <td>298.513000</td>\n",
              "      <td>307.907990</td>\n",
              "      <td>307.907990</td>\n",
              "      <td>1613479936</td>\n",
              "    </tr>\n",
              "    <tr>\n",
              "      <th>4</th>\n",
              "      <td>2017-11-13</td>\n",
              "      <td>307.024994</td>\n",
              "      <td>328.415009</td>\n",
              "      <td>307.024994</td>\n",
              "      <td>316.716003</td>\n",
              "      <td>316.716003</td>\n",
              "      <td>1041889984</td>\n",
              "    </tr>\n",
              "    <tr>\n",
              "      <th>...</th>\n",
              "      <td>...</td>\n",
              "      <td>...</td>\n",
              "      <td>...</td>\n",
              "      <td>...</td>\n",
              "      <td>...</td>\n",
              "      <td>...</td>\n",
              "      <td>...</td>\n",
              "    </tr>\n",
              "    <tr>\n",
              "      <th>1828</th>\n",
              "      <td>2022-11-11</td>\n",
              "      <td>1298.882446</td>\n",
              "      <td>1302.295288</td>\n",
              "      <td>1211.329590</td>\n",
              "      <td>1287.221069</td>\n",
              "      <td>1287.221069</td>\n",
              "      <td>20920539099</td>\n",
              "    </tr>\n",
              "    <tr>\n",
              "      <th>1829</th>\n",
              "      <td>2022-11-12</td>\n",
              "      <td>1287.438354</td>\n",
              "      <td>1288.150879</td>\n",
              "      <td>1242.152222</td>\n",
              "      <td>1255.268311</td>\n",
              "      <td>1255.268311</td>\n",
              "      <td>10964962767</td>\n",
              "    </tr>\n",
              "    <tr>\n",
              "      <th>1830</th>\n",
              "      <td>2022-11-13</td>\n",
              "      <td>1255.441284</td>\n",
              "      <td>1271.712524</td>\n",
              "      <td>1208.520996</td>\n",
              "      <td>1221.819214</td>\n",
              "      <td>1221.819214</td>\n",
              "      <td>10717455214</td>\n",
              "    </tr>\n",
              "    <tr>\n",
              "      <th>1831</th>\n",
              "      <td>2022-11-14</td>\n",
              "      <td>1221.895508</td>\n",
              "      <td>1284.217651</td>\n",
              "      <td>1178.429077</td>\n",
              "      <td>1241.604248</td>\n",
              "      <td>1241.604248</td>\n",
              "      <td>15028035663</td>\n",
              "    </tr>\n",
              "    <tr>\n",
              "      <th>1832</th>\n",
              "      <td>2022-11-15</td>\n",
              "      <td>1241.773926</td>\n",
              "      <td>1282.823608</td>\n",
              "      <td>1238.688232</td>\n",
              "      <td>1253.259399</td>\n",
              "      <td>1253.259399</td>\n",
              "      <td>12138597376</td>\n",
              "    </tr>\n",
              "  </tbody>\n",
              "</table>\n",
              "<p>1833 rows × 7 columns</p>\n",
              "</div>\n",
              "      <button class=\"colab-df-convert\" onclick=\"convertToInteractive('df-4acc7b62-6e46-4ce8-aa38-3f00cc1ee377')\"\n",
              "              title=\"Convert this dataframe to an interactive table.\"\n",
              "              style=\"display:none;\">\n",
              "        \n",
              "  <svg xmlns=\"http://www.w3.org/2000/svg\" height=\"24px\"viewBox=\"0 0 24 24\"\n",
              "       width=\"24px\">\n",
              "    <path d=\"M0 0h24v24H0V0z\" fill=\"none\"/>\n",
              "    <path d=\"M18.56 5.44l.94 2.06.94-2.06 2.06-.94-2.06-.94-.94-2.06-.94 2.06-2.06.94zm-11 1L8.5 8.5l.94-2.06 2.06-.94-2.06-.94L8.5 2.5l-.94 2.06-2.06.94zm10 10l.94 2.06.94-2.06 2.06-.94-2.06-.94-.94-2.06-.94 2.06-2.06.94z\"/><path d=\"M17.41 7.96l-1.37-1.37c-.4-.4-.92-.59-1.43-.59-.52 0-1.04.2-1.43.59L10.3 9.45l-7.72 7.72c-.78.78-.78 2.05 0 2.83L4 21.41c.39.39.9.59 1.41.59.51 0 1.02-.2 1.41-.59l7.78-7.78 2.81-2.81c.8-.78.8-2.07 0-2.86zM5.41 20L4 18.59l7.72-7.72 1.47 1.35L5.41 20z\"/>\n",
              "  </svg>\n",
              "      </button>\n",
              "      \n",
              "  <style>\n",
              "    .colab-df-container {\n",
              "      display:flex;\n",
              "      flex-wrap:wrap;\n",
              "      gap: 12px;\n",
              "    }\n",
              "\n",
              "    .colab-df-convert {\n",
              "      background-color: #E8F0FE;\n",
              "      border: none;\n",
              "      border-radius: 50%;\n",
              "      cursor: pointer;\n",
              "      display: none;\n",
              "      fill: #1967D2;\n",
              "      height: 32px;\n",
              "      padding: 0 0 0 0;\n",
              "      width: 32px;\n",
              "    }\n",
              "\n",
              "    .colab-df-convert:hover {\n",
              "      background-color: #E2EBFA;\n",
              "      box-shadow: 0px 1px 2px rgba(60, 64, 67, 0.3), 0px 1px 3px 1px rgba(60, 64, 67, 0.15);\n",
              "      fill: #174EA6;\n",
              "    }\n",
              "\n",
              "    [theme=dark] .colab-df-convert {\n",
              "      background-color: #3B4455;\n",
              "      fill: #D2E3FC;\n",
              "    }\n",
              "\n",
              "    [theme=dark] .colab-df-convert:hover {\n",
              "      background-color: #434B5C;\n",
              "      box-shadow: 0px 1px 3px 1px rgba(0, 0, 0, 0.15);\n",
              "      filter: drop-shadow(0px 1px 2px rgba(0, 0, 0, 0.3));\n",
              "      fill: #FFFFFF;\n",
              "    }\n",
              "  </style>\n",
              "\n",
              "      <script>\n",
              "        const buttonEl =\n",
              "          document.querySelector('#df-4acc7b62-6e46-4ce8-aa38-3f00cc1ee377 button.colab-df-convert');\n",
              "        buttonEl.style.display =\n",
              "          google.colab.kernel.accessAllowed ? 'block' : 'none';\n",
              "\n",
              "        async function convertToInteractive(key) {\n",
              "          const element = document.querySelector('#df-4acc7b62-6e46-4ce8-aa38-3f00cc1ee377');\n",
              "          const dataTable =\n",
              "            await google.colab.kernel.invokeFunction('convertToInteractive',\n",
              "                                                     [key], {});\n",
              "          if (!dataTable) return;\n",
              "\n",
              "          const docLinkHtml = 'Like what you see? Visit the ' +\n",
              "            '<a target=\"_blank\" href=https://colab.research.google.com/notebooks/data_table.ipynb>data table notebook</a>'\n",
              "            + ' to learn more about interactive tables.';\n",
              "          element.innerHTML = '';\n",
              "          dataTable['output_type'] = 'display_data';\n",
              "          await google.colab.output.renderOutput(dataTable, element);\n",
              "          const docLink = document.createElement('div');\n",
              "          docLink.innerHTML = docLinkHtml;\n",
              "          element.appendChild(docLink);\n",
              "        }\n",
              "      </script>\n",
              "    </div>\n",
              "  </div>\n",
              "  "
            ]
          },
          "metadata": {},
          "execution_count": 2
        }
      ],
      "source": [
        "#1st approach get data from our github\n",
        "url = 'https://raw.githubusercontent.com/Dabaiee/CS5100group7/main/ETH-USD.csv'\n",
        "df = pd.read_csv(url)\n",
        "df"
      ]
    },
    {
      "cell_type": "code",
      "source": [
        "# !pip install --upgrade pandas-datareader\n",
        "\n",
        "# !pip install --upgrade pandas"
      ],
      "metadata": {
        "id": "EiDzLc9u_WJO"
      },
      "execution_count": 3,
      "outputs": []
    },
    {
      "cell_type": "code",
      "source": [
        "#2nd apprroach to get data\n",
        "#get data from yahoo\n",
        "# current = dt.datetime.now()\n",
        "# df = web.DataReader('ETH-USD', data_source='yahoo', start='2016-01-01', end=current)\n",
        "# df"
      ],
      "metadata": {
        "id": "CvLh2eNZw5Cc"
      },
      "execution_count": 4,
      "outputs": []
    },
    {
      "cell_type": "code",
      "source": [
        "df.info()"
      ],
      "metadata": {
        "colab": {
          "base_uri": "https://localhost:8080/"
        },
        "id": "kic00EKz7Whq",
        "outputId": "ad73e400-547d-4932-bbbb-c60eead7e94d"
      },
      "execution_count": 5,
      "outputs": [
        {
          "output_type": "stream",
          "name": "stdout",
          "text": [
            "<class 'pandas.core.frame.DataFrame'>\n",
            "RangeIndex: 1833 entries, 0 to 1832\n",
            "Data columns (total 7 columns):\n",
            " #   Column     Non-Null Count  Dtype  \n",
            "---  ------     --------------  -----  \n",
            " 0   Date       1833 non-null   object \n",
            " 1   Open       1833 non-null   float64\n",
            " 2   High       1833 non-null   float64\n",
            " 3   Low        1833 non-null   float64\n",
            " 4   Close      1833 non-null   float64\n",
            " 5   Adj Close  1833 non-null   float64\n",
            " 6   Volume     1833 non-null   int64  \n",
            "dtypes: float64(5), int64(1), object(1)\n",
            "memory usage: 100.4+ KB\n"
          ]
        }
      ]
    },
    {
      "cell_type": "code",
      "source": [
        "df.shape"
      ],
      "metadata": {
        "colab": {
          "base_uri": "https://localhost:8080/"
        },
        "id": "uZM6nHEW7eNa",
        "outputId": "b30105c0-0c10-4fdb-9726-ac7a4f76c03b"
      },
      "execution_count": 6,
      "outputs": [
        {
          "output_type": "execute_result",
          "data": {
            "text/plain": [
              "(1833, 7)"
            ]
          },
          "metadata": {},
          "execution_count": 6
        }
      ]
    },
    {
      "cell_type": "markdown",
      "metadata": {
        "id": "Bnyo_nQFplCK"
      },
      "source": [
        "# Visualization"
      ]
    },
    {
      "cell_type": "code",
      "source": [
        "#visualize the closing price\n",
        "plt.figure(figsize=(16,8))\n",
        "plt.title('Close Price History')\n",
        "plt.plot(df['Close'])\n",
        "plt.xlabel('Date', fontsize = 18)\n",
        "plt.ylabel('Close Price (USD)', fontsize = 18)\n",
        "plt.show()"
      ],
      "metadata": {
        "colab": {
          "base_uri": "https://localhost:8080/",
          "height": 558
        },
        "id": "kwGJ9attvNVN",
        "outputId": "a3f791a2-04ec-491d-f84b-803d212521f4"
      },
      "execution_count": 7,
      "outputs": [
        {
          "output_type": "display_data",
          "data": {
            "text/plain": [
              "<Figure size 1152x576 with 1 Axes>"
            ],
            "image/png": "[encoded data removed]"
          },
          "metadata": {}
        }
      ]
    },
    {
      "cell_type": "code",
      "source": [
        " #create a new dataframe with 'Close' column\n",
        "data = df.filter(['Close'])\n",
        "#convert the dataframe into an array\n",
        "dataset = data.values\n",
        "#count number of data to train the model\n",
        "training_data_len = math.ceil(len(dataset) * 0.8)\n",
        "training_data_len\n"
      ],
      "metadata": {
        "colab": {
          "base_uri": "https://localhost:8080/"
        },
        "id": "9B4jcSyt8Lrz",
        "outputId": "28f2fd5e-97ca-4bfb-e4fe-1fece065d0d6"
      },
      "execution_count": 8,
      "outputs": [
        {
          "output_type": "execute_result",
          "data": {
            "text/plain": [
              "1467"
            ]
          },
          "metadata": {},
          "execution_count": 8
        }
      ]
    },
    {
      "cell_type": "code",
      "source": [
        "#Scale the data - it is advantage to pre processing the scaling to input data before neural network\n",
        "scaler = MinMaxScaler(feature_range=(0,1))\n",
        "scaled_data = scaler.fit_transform(dataset)\n",
        "scaled_data"
      ],
      "metadata": {
        "id": "TsDatgby-2C3",
        "colab": {
          "base_uri": "https://localhost:8080/"
        },
        "outputId": "64060127-9723-41a2-ddfb-7d68a7ac814c"
      },
      "execution_count": 9,
      "outputs": [
        {
          "output_type": "execute_result",
          "data": {
            "text/plain": [
              "array([[0.0500395 ],\n",
              "       [0.0454642 ],\n",
              "       [0.04872747],\n",
              "       ...,\n",
              "       [0.24060154],\n",
              "       [0.24478638],\n",
              "       [0.24725163]])"
            ]
          },
          "metadata": {},
          "execution_count": 9
        }
      ]
    },
    {
      "cell_type": "code",
      "source": [
        "#create the training data set\n",
        "#create the scaled training data set\n",
        "train_data = scaled_data[0:training_data_len, :]\n",
        "train_data\n",
        "#split the data into x_train and y_train data sets\n",
        "#x_train is train feature\n",
        "x_train = []\n",
        "#y_train is target var\n",
        "y_train = []\n",
        "\n",
        "#we use past continuously 60 days of x to predict the 61st day of y, \n",
        "for i in range(60, len(train_data)):\n",
        "  x_train.append(train_data[i-60:i, 0])\n",
        "  y_train.append(train_data[i, 0])\n",
        "  # if i <= 61:\n",
        "  #   print('x',x_train)\n",
        "  #   print('y',y_train)\n",
        "  #   print('.............')"
      ],
      "metadata": {
        "id": "7EyOa_i8j0fM"
      },
      "execution_count": 10,
      "outputs": []
    },
    {
      "cell_type": "code",
      "source": [
        "#convert the x_train and y_train to an array\n",
        "x_train = np.array(x_train)\n",
        "y_train = np.array(y_train)"
      ],
      "metadata": {
        "id": "quN-jbz7mJol"
      },
      "execution_count": 11,
      "outputs": []
    },
    {
      "cell_type": "code",
      "source": [
        "#we start at index 59 -> 60th of x\n",
        "x_train.shape"
      ],
      "metadata": {
        "colab": {
          "base_uri": "https://localhost:8080/"
        },
        "id": "u0C3aBIbp2Ec",
        "outputId": "bf3cdef9-689b-44ef-ea93-c6b2bf9e7177"
      },
      "execution_count": 12,
      "outputs": [
        {
          "output_type": "execute_result",
          "data": {
            "text/plain": [
              "(1407, 60)"
            ]
          },
          "metadata": {},
          "execution_count": 12
        }
      ]
    },
    {
      "cell_type": "code",
      "source": [
        "#LSTM need input to be 3-D (num of samples, num of time steps, num of features) \n",
        "#therefore, need to reshape the data\n",
        "x_train = np.reshape(x_train, (x_train.shape[0], x_train.shape[1], 1))\n",
        "x_train.shape"
      ],
      "metadata": {
        "colab": {
          "base_uri": "https://localhost:8080/"
        },
        "id": "-QKLT6Vzo8M1",
        "outputId": "11224266-54c7-4b6a-f73e-d809d83c2cfe"
      },
      "execution_count": 13,
      "outputs": [
        {
          "output_type": "execute_result",
          "data": {
            "text/plain": [
              "(1407, 60, 1)"
            ]
          },
          "metadata": {},
          "execution_count": 13
        }
      ]
    },
    {
      "cell_type": "code",
      "source": [
        "from keras.engine import input_layer\n",
        "#build the LSTM model (continuously dataset)\n",
        "#LSTM is one of the recurrent neural network\n",
        "model = Sequential()\n",
        "#use 50 neurons\n",
        "model.add(LSTM(50, return_sequences=True, input_shape = (x_train.shape[1], 1)))\n",
        "model.add(LSTM(50, return_sequences=False))\n",
        "model.add(Dense(25))\n",
        "model.add(Dense(1))"
      ],
      "metadata": {
        "id": "k16TQvTb6LXX"
      },
      "execution_count": 14,
      "outputs": []
    },
    {
      "cell_type": "code",
      "source": [
        "#compile the model\n",
        "#optimizer is used to improve the loss function (adaptive moment)\n",
        "#loss function measure the accurate of model on training\n",
        "model.compile(optimizer='adam', loss='mean_squared_error')"
      ],
      "metadata": {
        "id": "hROtFXCA8h5q"
      },
      "execution_count": 15,
      "outputs": []
    },
    {
      "cell_type": "code",
      "source": [
        "#train the model\n",
        "#batch size is the total number of training examples present in a single batch\n",
        "#epochs is the iterations when an entire dataset is passed forward and backward thru a neural netwok\n",
        "model.fit(x_train, y_train, batch_size=1, epochs=1)"
      ],
      "metadata": {
        "colab": {
          "base_uri": "https://localhost:8080/"
        },
        "id": "zSOA1-CD9ttX",
        "outputId": "e4658861-ed15-4cff-9980-25dffc70cf08"
      },
      "execution_count": 16,
      "outputs": [
        {
          "output_type": "stream",
          "name": "stdout",
          "text": [
            "1407/1407 [==============================] - 51s 31ms/step - loss: 0.0022\n"
          ]
        },
        {
          "output_type": "execute_result",
          "data": {
            "text/plain": [
              "<keras.callbacks.History at 0x7fbd1b301c90>"
            ]
          },
          "metadata": {},
          "execution_count": 16
        }
      ]
    },
    {
      "cell_type": "code",
      "source": [
        "#create the testing data set\n",
        "#create an new array ontained rest of scaled value (0,1)\n",
        "test_data = scaled_data[training_data_len - 60:, :]\n",
        "#create the data set x_test and y_test\n",
        "x_test = []\n",
        "y_test = dataset[training_data_len:, :]\n",
        "\n",
        "#idea here is we use rest of scaled data （scaled_data * 20%)\n",
        "#start from index 60 of test_data, in group of 60, and we put 60 numbers into x_test\n",
        "\n",
        "for i in range(60, len(test_data)):\n",
        "  x_test.append(test_data[i-60:i, 0])\n",
        "print(len(x_test))\n",
        "y_test.shape"
      ],
      "metadata": {
        "colab": {
          "base_uri": "https://localhost:8080/"
        },
        "id": "rTvDOvDt--x_",
        "outputId": "98e470af-a3b6-4b30-8b9c-04817f8bf4cb"
      },
      "execution_count": 17,
      "outputs": [
        {
          "output_type": "stream",
          "name": "stdout",
          "text": [
            "366\n"
          ]
        },
        {
          "output_type": "execute_result",
          "data": {
            "text/plain": [
              "(366, 1)"
            ]
          },
          "metadata": {},
          "execution_count": 17
        }
      ]
    },
    {
      "cell_type": "code",
      "source": [
        "#convert the data to a numpy array\n",
        "x_test = np.array(x_test)\n",
        "x_test"
      ],
      "metadata": {
        "colab": {
          "base_uri": "https://localhost:8080/"
        },
        "id": "yYPjhIlaBl_w",
        "outputId": "1325b8ae-a738-4cfd-f774-14c3b2831398"
      },
      "execution_count": 18,
      "outputs": [
        {
          "output_type": "execute_result",
          "data": {
            "text/plain": [
              "array([[0.73755278, 0.70101213, 0.70809358, ..., 0.9693361 , 0.96602486,\n",
              "        0.96071548],\n",
              "       [0.70101213, 0.70809358, 0.68639833, ..., 0.96602486, 0.96071548,\n",
              "        0.94615157],\n",
              "       [0.70809358, 0.68639833, 0.60804133, ..., 0.96071548, 0.94615157,\n",
              "        0.87399535],\n",
              "       ...,\n",
              "       [0.32794398, 0.29345389, 0.2851528 , ..., 0.25702476, 0.25443506,\n",
              "        0.24767655],\n",
              "       [0.29345389, 0.2851528 , 0.29304106, ..., 0.25443506, 0.24767655,\n",
              "        0.24060154],\n",
              "       [0.2851528 , 0.29304106, 0.26461067, ..., 0.24767655, 0.24060154,\n",
              "        0.24478638]])"
            ]
          },
          "metadata": {},
          "execution_count": 18
        }
      ]
    },
    {
      "cell_type": "code",
      "source": [
        "#reshape the data x_test to 3-D for LSTM\n",
        "x_test = np.reshape(x_test, (x_test.shape[0], x_test.shape[1], 1))"
      ],
      "metadata": {
        "id": "hG33aiHNDLco"
      },
      "execution_count": 19,
      "outputs": []
    },
    {
      "cell_type": "code",
      "source": [
        "#get the model predicted price values\n",
        "#use the model with x_test values to get the predicted y\n",
        "predictions = model.predict(x_test)\n",
        "#unscalling the values, use inverse the scaled value to noraml value\n",
        "#we want predictions contain the same values as y_test data set\n",
        "predictions = scaler.inverse_transform(predictions)"
      ],
      "metadata": {
        "colab": {
          "base_uri": "https://localhost:8080/"
        },
        "id": "tPskymt_DeJd",
        "outputId": "3b5ffc3d-fa2c-4047-ca30-2f7f36febbc6"
      },
      "execution_count": 20,
      "outputs": [
        {
          "output_type": "stream",
          "name": "stdout",
          "text": [
            "12/12 [==============================] - 1s 15ms/step\n"
          ]
        }
      ]
    },
    {
      "cell_type": "code",
      "source": [
        "#evaluate the model preform\n",
        "#get the root mean squares error(RMSE)\n",
        "#RMSE is measure of how accurate the model predicts\n",
        "#RMSE is the standard deviation of the residuals\n",
        "\n",
        "#predictions: get from model with x_test\n",
        "#y_test: the actural value from data set\n",
        "rmse = np.sqrt(np.mean(predictions - y_test)** 2)\n",
        "rmse"
      ],
      "metadata": {
        "colab": {
          "base_uri": "https://localhost:8080/"
        },
        "id": "DkXw_kq2FO80",
        "outputId": "93236b81-9ea0-4b70-8339-d3515fcd3770"
      },
      "execution_count": 21,
      "outputs": [
        {
          "output_type": "execute_result",
          "data": {
            "text/plain": [
              "61.423427415748804"
            ]
          },
          "metadata": {},
          "execution_count": 21
        }
      ]
    },
    {
      "cell_type": "code",
      "source": [
        "#plot the data\n",
        "#80% data as train data\n",
        "train = data[:training_data_len]\n",
        "#20% data as valid data\n",
        "valid = data[training_data_len:]\n",
        "valid['Predictions'] = predictions\n",
        "\n",
        "#visualize the data\n",
        "plt.figure(figsize=(16,8))\n",
        "plt.title('LSTM model')\n",
        "plt.xlabel('Date',fontsize = 18)\n",
        "plt.ylabel('Close Price (USD)', fontsize = 18)\n",
        "plt.plot(train['Close'])\n",
        "plt.plot(valid[['Close', 'Predictions']])\n",
        "# plt.plot(valid['Predictions'])\n",
        "plt.legend(['Train', 'Val', 'Predictions'], loc='upper left')\n",
        "plt.show()\n"
      ],
      "metadata": {
        "colab": {
          "base_uri": "https://localhost:8080/",
          "height": 666
        },
        "id": "yA6OvAnYLpgC",
        "outputId": "7aafb0e4-647d-434b-d5f5-998f882e5a39"
      },
      "execution_count": 22,
      "outputs": [
        {
          "output_type": "stream",
          "name": "stderr",
          "text": [
            "/usr/local/lib/python3.7/dist-packages/ipykernel_launcher.py:6: SettingWithCopyWarning: \n",
            "A value is trying to be set on a copy of a slice from a DataFrame.\n",
            "Try using .loc[row_indexer,col_indexer] = value instead\n",
            "\n",
            "See the caveats in the documentation: https://pandas.pydata.org/pandas-docs/stable/user_guide/indexing.html#returning-a-view-versus-a-copy\n",
            "  \n"
          ]
        },
        {
          "output_type": "display_data",
          "data": {
            "text/plain": [
              "<Figure size 1152x576 with 1 Axes>"
            ],
            "image/png": "[encoded data removed]"
          },
          "metadata": {}
        }
      ]
    },
    {
      "cell_type": "code",
      "source": [
        "#show the valid and predicted prices\n",
        "valid"
      ],
      "metadata": {
        "colab": {
          "base_uri": "https://localhost:8080/",
          "height": 424
        },
        "id": "tlrQZq98SmBD",
        "outputId": "a184dbf8-579a-4e22-9331-abbe51bca106"
      },
      "execution_count": 23,
      "outputs": [
        {
          "output_type": "execute_result",
          "data": {
            "text/plain": [
              "            Close  Predictions\n",
              "1467  4557.503906  4377.793457\n",
              "1468  4216.365234  4356.449707\n",
              "1469  4287.593750  4283.413574\n",
              "1470  4000.650879  4212.875977\n",
              "1471  4298.306641  4111.360840\n",
              "...           ...          ...\n",
              "1828  1287.221069  1363.802490\n",
              "1829  1255.268311  1319.678223\n",
              "1830  1221.819214  1284.741821\n",
              "1831  1241.604248  1254.878540\n",
              "1832  1253.259399  1234.317261\n",
              "\n",
              "[366 rows x 2 columns]"
            ],
            "text/html": [
              "\n",
              "  <div id=\"df-60c147f4-2f51-4502-a4f0-441218a9a4e8\">\n",
              "    <div class=\"colab-df-container\">\n",
              "      <div>\n",
              "<style scoped>\n",
              "    .dataframe tbody tr th:only-of-type {\n",
              "        vertical-align: middle;\n",
              "    }\n",
              "\n",
              "    .dataframe tbody tr th {\n",
              "        vertical-align: top;\n",
              "    }\n",
              "\n",
              "    .dataframe thead th {\n",
              "        text-align: right;\n",
              "    }\n",
              "</style>\n",
              "<table border=\"1\" class=\"dataframe\">\n",
              "  <thead>\n",
              "    <tr style=\"text-align: right;\">\n",
              "      <th></th>\n",
              "      <th>Close</th>\n",
              "      <th>Predictions</th>\n",
              "    </tr>\n",
              "  </thead>\n",
              "  <tbody>\n",
              "    <tr>\n",
              "      <th>1467</th>\n",
              "      <td>4557.503906</td>\n",
              "      <td>4377.793457</td>\n",
              "    </tr>\n",
              "    <tr>\n",
              "      <th>1468</th>\n",
              "      <td>4216.365234</td>\n",
              "      <td>4356.449707</td>\n",
              "    </tr>\n",
              "    <tr>\n",
              "      <th>1469</th>\n",
              "      <td>4287.593750</td>\n",
              "      <td>4283.413574</td>\n",
              "    </tr>\n",
              "    <tr>\n",
              "      <th>1470</th>\n",
              "      <td>4000.650879</td>\n",
              "      <td>4212.875977</td>\n",
              "    </tr>\n",
              "    <tr>\n",
              "      <th>1471</th>\n",
              "      <td>4298.306641</td>\n",
              "      <td>4111.360840</td>\n",
              "    </tr>\n",
              "    <tr>\n",
              "      <th>...</th>\n",
              "      <td>...</td>\n",
              "      <td>...</td>\n",
              "    </tr>\n",
              "    <tr>\n",
              "      <th>1828</th>\n",
              "      <td>1287.221069</td>\n",
              "      <td>1363.802490</td>\n",
              "    </tr>\n",
              "    <tr>\n",
              "      <th>1829</th>\n",
              "      <td>1255.268311</td>\n",
              "      <td>1319.678223</td>\n",
              "    </tr>\n",
              "    <tr>\n",
              "      <th>1830</th>\n",
              "      <td>1221.819214</td>\n",
              "      <td>1284.741821</td>\n",
              "    </tr>\n",
              "    <tr>\n",
              "      <th>1831</th>\n",
              "      <td>1241.604248</td>\n",
              "      <td>1254.878540</td>\n",
              "    </tr>\n",
              "    <tr>\n",
              "      <th>1832</th>\n",
              "      <td>1253.259399</td>\n",
              "      <td>1234.317261</td>\n",
              "    </tr>\n",
              "  </tbody>\n",
              "</table>\n",
              "<p>366 rows × 2 columns</p>\n",
              "</div>\n",
              "      <button class=\"colab-df-convert\" onclick=\"convertToInteractive('df-60c147f4-2f51-4502-a4f0-441218a9a4e8')\"\n",
              "              title=\"Convert this dataframe to an interactive table.\"\n",
              "              style=\"display:none;\">\n",
              "        \n",
              "  <svg xmlns=\"http://www.w3.org/2000/svg\" height=\"24px\"viewBox=\"0 0 24 24\"\n",
              "       width=\"24px\">\n",
              "    <path d=\"M0 0h24v24H0V0z\" fill=\"none\"/>\n",
              "    <path d=\"M18.56 5.44l.94 2.06.94-2.06 2.06-.94-2.06-.94-.94-2.06-.94 2.06-2.06.94zm-11 1L8.5 8.5l.94-2.06 2.06-.94-2.06-.94L8.5 2.5l-.94 2.06-2.06.94zm10 10l.94 2.06.94-2.06 2.06-.94-2.06-.94-.94-2.06-.94 2.06-2.06.94z\"/><path d=\"M17.41 7.96l-1.37-1.37c-.4-.4-.92-.59-1.43-.59-.52 0-1.04.2-1.43.59L10.3 9.45l-7.72 7.72c-.78.78-.78 2.05 0 2.83L4 21.41c.39.39.9.59 1.41.59.51 0 1.02-.2 1.41-.59l7.78-7.78 2.81-2.81c.8-.78.8-2.07 0-2.86zM5.41 20L4 18.59l7.72-7.72 1.47 1.35L5.41 20z\"/>\n",
              "  </svg>\n",
              "      </button>\n",
              "      \n",
              "  <style>\n",
              "    .colab-df-container {\n",
              "      display:flex;\n",
              "      flex-wrap:wrap;\n",
              "      gap: 12px;\n",
              "    }\n",
              "\n",
              "    .colab-df-convert {\n",
              "      background-color: #E8F0FE;\n",
              "      border: none;\n",
              "      border-radius: 50%;\n",
              "      cursor: pointer;\n",
              "      display: none;\n",
              "      fill: #1967D2;\n",
              "      height: 32px;\n",
              "      padding: 0 0 0 0;\n",
              "      width: 32px;\n",
              "    }\n",
              "\n",
              "    .colab-df-convert:hover {\n",
              "      background-color: #E2EBFA;\n",
              "      box-shadow: 0px 1px 2px rgba(60, 64, 67, 0.3), 0px 1px 3px 1px rgba(60, 64, 67, 0.15);\n",
              "      fill: #174EA6;\n",
              "    }\n",
              "\n",
              "    [theme=dark] .colab-df-convert {\n",
              "      background-color: #3B4455;\n",
              "      fill: #D2E3FC;\n",
              "    }\n",
              "\n",
              "    [theme=dark] .colab-df-convert:hover {\n",
              "      background-color: #434B5C;\n",
              "      box-shadow: 0px 1px 3px 1px rgba(0, 0, 0, 0.15);\n",
              "      filter: drop-shadow(0px 1px 2px rgba(0, 0, 0, 0.3));\n",
              "      fill: #FFFFFF;\n",
              "    }\n",
              "  </style>\n",
              "\n",
              "      <script>\n",
              "        const buttonEl =\n",
              "          document.querySelector('#df-60c147f4-2f51-4502-a4f0-441218a9a4e8 button.colab-df-convert');\n",
              "        buttonEl.style.display =\n",
              "          google.colab.kernel.accessAllowed ? 'block' : 'none';\n",
              "\n",
              "        async function convertToInteractive(key) {\n",
              "          const element = document.querySelector('#df-60c147f4-2f51-4502-a4f0-441218a9a4e8');\n",
              "          const dataTable =\n",
              "            await google.colab.kernel.invokeFunction('convertToInteractive',\n",
              "                                                     [key], {});\n",
              "          if (!dataTable) return;\n",
              "\n",
              "          const docLinkHtml = 'Like what you see? Visit the ' +\n",
              "            '<a target=\"_blank\" href=https://colab.research.google.com/notebooks/data_table.ipynb>data table notebook</a>'\n",
              "            + ' to learn more about interactive tables.';\n",
              "          element.innerHTML = '';\n",
              "          dataTable['output_type'] = 'display_data';\n",
              "          await google.colab.output.renderOutput(dataTable, element);\n",
              "          const docLink = document.createElement('div');\n",
              "          docLink.innerHTML = docLinkHtml;\n",
              "          element.appendChild(docLink);\n",
              "        }\n",
              "      </script>\n",
              "    </div>\n",
              "  </div>\n",
              "  "
            ]
          },
          "metadata": {},
          "execution_count": 23
        }
      ]
    },
    {
      "cell_type": "code",
      "source": [
        "quote = df\n",
        "#create the new data frame\n",
        "new_df = quote.filter(['Close'])\n",
        "#get last 60 days values and convert them into array to predict the 61st value\n",
        "last_60 = new_df[-60:].values\n",
        "#scale the data using scaler (value between 0 and 1)\n",
        "#use transform for test values instead train values\n",
        "last_60_scaled = scaler.transform(last_60)\n",
        "#create x_test_60\n",
        "x_test_60 = []\n",
        "\n",
        "x_test_60.append(last_60_scaled)\n",
        "#convert the x_test_60 to array\n",
        "x_test_60 = np.array(x_test_60)\n",
        "#reshape the data to 3-D\n",
        "x_test_60 = np.reshape(x_test_60, (x_test_60.shape[0], x_test_60.shape[1],1))\n",
        "#get predicted scaled price by modle and x_test_60\n",
        "predict_price = model.predict(x_test_60)\n",
        "#inverse the scaled price to normal price\n",
        "predict_price = scaler.inverse_transform(predict_price)\n",
        "print(predict_price) \n"
      ],
      "metadata": {
        "colab": {
          "base_uri": "https://localhost:8080/"
        },
        "id": "rE8cvDD-S7NX",
        "outputId": "b69d4dd9-f466-4476-83e5-4903ebf80281"
      },
      "execution_count": 24,
      "outputs": [
        {
          "output_type": "stream",
          "name": "stdout",
          "text": [
            "1/1 [==============================] - 0s 27ms/step\n",
            "[[1222.6799]]\n"
          ]
        }
      ]
    }
  ],
  "metadata": {
    "kernelspec": {
      "display_name": "Python 3 (ipykernel)",
      "language": "python",
      "name": "python3"
    },
    "language_info": {
      "codemirror_mode": {
        "name": "ipython",
        "version": 3
      },
      "file_extension": ".py",
      "mimetype": "text/x-python",
      "name": "python",
      "nbconvert_exporter": "python",
      "pygments_lexer": "ipython3",
      "version": "3.10.8"
    },
    "colab": {
      "provenance": [],
      "include_colab_link": true
    }
  },
  "nbformat": 4,
  "nbformat_minor": 0
}