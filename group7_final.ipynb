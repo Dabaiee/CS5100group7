{
 "cells": [
  {
   "cell_type": "code",
   "execution_count": 1,
   "metadata": {},
   "outputs": [],
   "source": [
    "import numpy as np\n",
    "import pandas as pd\n",
    "import seaborn as sns"
   ]
  },
  {
   "cell_type": "markdown",
   "metadata": {},
   "source": [
    "# Load the data"
   ]
  },
  {
   "cell_type": "code",
   "execution_count": 2,
   "metadata": {},
   "outputs": [
    {
     "data": {
      "text/html": [
       "<div>\n",
       "<style scoped>\n",
       "    .dataframe tbody tr th:only-of-type {\n",
       "        vertical-align: middle;\n",
       "    }\n",
       "\n",
       "    .dataframe tbody tr th {\n",
       "        vertical-align: top;\n",
       "    }\n",
       "\n",
       "    .dataframe thead th {\n",
       "        text-align: right;\n",
       "    }\n",
       "</style>\n",
       "<table border=\"1\" class=\"dataframe\">\n",
       "  <thead>\n",
       "    <tr style=\"text-align: right;\">\n",
       "      <th></th>\n",
       "      <th>timestamp</th>\n",
       "      <th>date</th>\n",
       "      <th>open</th>\n",
       "      <th>high</th>\n",
       "      <th>low</th>\n",
       "      <th>close</th>\n",
       "    </tr>\n",
       "  </thead>\n",
       "  <tbody>\n",
       "    <tr>\n",
       "      <th>0</th>\n",
       "      <td>1665532800</td>\n",
       "      <td>10/12/2022</td>\n",
       "      <td>1279.870000</td>\n",
       "      <td>1304.36</td>\n",
       "      <td>1276</td>\n",
       "      <td>1294.41</td>\n",
       "    </tr>\n",
       "    <tr>\n",
       "      <th>1</th>\n",
       "      <td>1665446400</td>\n",
       "      <td>10/11/2022</td>\n",
       "      <td>1290.054126</td>\n",
       "      <td>1297.138045</td>\n",
       "      <td>1268.541627</td>\n",
       "      <td>1279.769451</td>\n",
       "    </tr>\n",
       "    <tr>\n",
       "      <th>2</th>\n",
       "      <td>1665360000</td>\n",
       "      <td>10/10/2022</td>\n",
       "      <td>1323.408965</td>\n",
       "      <td>1336.620905</td>\n",
       "      <td>1289.303986</td>\n",
       "      <td>1290.725626</td>\n",
       "    </tr>\n",
       "    <tr>\n",
       "      <th>3</th>\n",
       "      <td>1665273600</td>\n",
       "      <td>10/9/2022</td>\n",
       "      <td>1315.673362</td>\n",
       "      <td>1328.62</td>\n",
       "      <td>1308.033024</td>\n",
       "      <td>1323.208332</td>\n",
       "    </tr>\n",
       "    <tr>\n",
       "      <th>4</th>\n",
       "      <td>1665273480</td>\n",
       "      <td>10/8/2022</td>\n",
       "      <td>1315.460274</td>\n",
       "      <td>undefined</td>\n",
       "      <td>undefined</td>\n",
       "      <td>undefined</td>\n",
       "    </tr>\n",
       "  </tbody>\n",
       "</table>\n",
       "</div>"
      ],
      "text/plain": [
       "    timestamp        date         open         high          low        close\n",
       "0  1665532800  10/12/2022  1279.870000      1304.36         1276      1294.41\n",
       "1  1665446400  10/11/2022  1290.054126  1297.138045  1268.541627  1279.769451\n",
       "2  1665360000  10/10/2022  1323.408965  1336.620905  1289.303986  1290.725626\n",
       "3  1665273600   10/9/2022  1315.673362      1328.62  1308.033024  1323.208332\n",
       "4  1665273480   10/8/2022  1315.460274    undefined    undefined    undefined"
      ]
     },
     "execution_count": 2,
     "metadata": {},
     "output_type": "execute_result"
    }
   ],
   "source": [
    "df = pd.read_csv(\"ethereumprice_org.csv\")\n",
    "df.head()"
   ]
  },
  {
   "cell_type": "code",
   "execution_count": 3,
   "metadata": {},
   "outputs": [
    {
     "name": "stdout",
     "output_type": "stream",
     "text": [
      "<class 'pandas.core.frame.DataFrame'>\n",
      "RangeIndex: 2953 entries, 0 to 2952\n",
      "Data columns (total 6 columns):\n",
      " #   Column     Non-Null Count  Dtype  \n",
      "---  ------     --------------  -----  \n",
      " 0   timestamp  2953 non-null   int64  \n",
      " 1   date       2953 non-null   object \n",
      " 2   open       2953 non-null   float64\n",
      " 3   high       2953 non-null   object \n",
      " 4   low        2953 non-null   object \n",
      " 5   close      2953 non-null   object \n",
      "dtypes: float64(1), int64(1), object(4)\n",
      "memory usage: 92.3+ KB\n"
     ]
    }
   ],
   "source": [
    "df.info()"
   ]
  },
  {
   "cell_type": "code",
   "execution_count": 4,
   "metadata": {},
   "outputs": [
    {
     "data": {
      "text/html": [
       "<div>\n",
       "<style scoped>\n",
       "    .dataframe tbody tr th:only-of-type {\n",
       "        vertical-align: middle;\n",
       "    }\n",
       "\n",
       "    .dataframe tbody tr th {\n",
       "        vertical-align: top;\n",
       "    }\n",
       "\n",
       "    .dataframe thead th {\n",
       "        text-align: right;\n",
       "    }\n",
       "</style>\n",
       "<table border=\"1\" class=\"dataframe\">\n",
       "  <thead>\n",
       "    <tr style=\"text-align: right;\">\n",
       "      <th></th>\n",
       "      <th>timestamp</th>\n",
       "      <th>date</th>\n",
       "      <th>open</th>\n",
       "      <th>high</th>\n",
       "      <th>low</th>\n",
       "      <th>close</th>\n",
       "    </tr>\n",
       "  </thead>\n",
       "  <tbody>\n",
       "    <tr>\n",
       "      <th>0</th>\n",
       "      <td>1665532800</td>\n",
       "      <td>10/12/2022</td>\n",
       "      <td>1279.870000</td>\n",
       "      <td>1304.36</td>\n",
       "      <td>1276</td>\n",
       "      <td>1294.41</td>\n",
       "    </tr>\n",
       "    <tr>\n",
       "      <th>1</th>\n",
       "      <td>1665446400</td>\n",
       "      <td>10/11/2022</td>\n",
       "      <td>1290.054126</td>\n",
       "      <td>1297.138045</td>\n",
       "      <td>1268.541627</td>\n",
       "      <td>1279.769451</td>\n",
       "    </tr>\n",
       "    <tr>\n",
       "      <th>2</th>\n",
       "      <td>1665360000</td>\n",
       "      <td>10/10/2022</td>\n",
       "      <td>1323.408965</td>\n",
       "      <td>1336.620905</td>\n",
       "      <td>1289.303986</td>\n",
       "      <td>1290.725626</td>\n",
       "    </tr>\n",
       "    <tr>\n",
       "      <th>3</th>\n",
       "      <td>1665273600</td>\n",
       "      <td>10/9/2022</td>\n",
       "      <td>1315.673362</td>\n",
       "      <td>1328.62</td>\n",
       "      <td>1308.033024</td>\n",
       "      <td>1323.208332</td>\n",
       "    </tr>\n",
       "    <tr>\n",
       "      <th>4</th>\n",
       "      <td>1665273480</td>\n",
       "      <td>10/8/2022</td>\n",
       "      <td>1315.460274</td>\n",
       "      <td>undefined</td>\n",
       "      <td>undefined</td>\n",
       "      <td>undefined</td>\n",
       "    </tr>\n",
       "    <tr>\n",
       "      <th>5</th>\n",
       "      <td>1665187200</td>\n",
       "      <td>10/8/2022</td>\n",
       "      <td>1331.028949</td>\n",
       "      <td>1336.425648</td>\n",
       "      <td>1304.781572</td>\n",
       "      <td>1315.43</td>\n",
       "    </tr>\n",
       "    <tr>\n",
       "      <th>6</th>\n",
       "      <td>1665100800</td>\n",
       "      <td>10/7/2022</td>\n",
       "      <td>1351.956267</td>\n",
       "      <td>1360.514962</td>\n",
       "      <td>1320.055232</td>\n",
       "      <td>1332.207299</td>\n",
       "    </tr>\n",
       "    <tr>\n",
       "      <th>7</th>\n",
       "      <td>1665100740</td>\n",
       "      <td>10/6/2022</td>\n",
       "      <td>1352.272650</td>\n",
       "      <td>undefined</td>\n",
       "      <td>undefined</td>\n",
       "      <td>undefined</td>\n",
       "    </tr>\n",
       "    <tr>\n",
       "      <th>8</th>\n",
       "      <td>1665014400</td>\n",
       "      <td>10/6/2022</td>\n",
       "      <td>1351.940859</td>\n",
       "      <td>1382.21</td>\n",
       "      <td>1347.746847</td>\n",
       "      <td>1351.338316</td>\n",
       "    </tr>\n",
       "    <tr>\n",
       "      <th>9</th>\n",
       "      <td>1665014340</td>\n",
       "      <td>10/5/2022</td>\n",
       "      <td>1352.688461</td>\n",
       "      <td>undefined</td>\n",
       "      <td>undefined</td>\n",
       "      <td>undefined</td>\n",
       "    </tr>\n",
       "  </tbody>\n",
       "</table>\n",
       "</div>"
      ],
      "text/plain": [
       "    timestamp        date         open         high          low        close\n",
       "0  1665532800  10/12/2022  1279.870000      1304.36         1276      1294.41\n",
       "1  1665446400  10/11/2022  1290.054126  1297.138045  1268.541627  1279.769451\n",
       "2  1665360000  10/10/2022  1323.408965  1336.620905  1289.303986  1290.725626\n",
       "3  1665273600   10/9/2022  1315.673362      1328.62  1308.033024  1323.208332\n",
       "4  1665273480   10/8/2022  1315.460274    undefined    undefined    undefined\n",
       "5  1665187200   10/8/2022  1331.028949  1336.425648  1304.781572      1315.43\n",
       "6  1665100800   10/7/2022  1351.956267  1360.514962  1320.055232  1332.207299\n",
       "7  1665100740   10/6/2022  1352.272650    undefined    undefined    undefined\n",
       "8  1665014400   10/6/2022  1351.940859      1382.21  1347.746847  1351.338316\n",
       "9  1665014340   10/5/2022  1352.688461    undefined    undefined    undefined"
      ]
     },
     "execution_count": 4,
     "metadata": {},
     "output_type": "execute_result"
    }
   ],
   "source": [
    "df['high']= df['high'].fillna('0')\n",
    "df['low']= df['low'].fillna('0')\n",
    "df['close']= df['close'].fillna('0')\n",
    "df.head(10)"
   ]
  },
  {
   "cell_type": "markdown",
   "metadata": {},
   "source": [
    "# Visualization"
   ]
  },
  {
   "cell_type": "code",
   "execution_count": 6,
   "metadata": {},
   "outputs": [
    {
     "ename": "SyntaxError",
     "evalue": "invalid syntax (<ipython-input-6-2fba459bf21b>, line 2)",
     "output_type": "error",
     "traceback": [
      "\u001b[1;36m  File \u001b[1;32m\"<ipython-input-6-2fba459bf21b>\"\u001b[1;36m, line \u001b[1;32m2\u001b[0m\n\u001b[1;33m    pip install plotly\u001b[0m\n\u001b[1;37m        ^\u001b[0m\n\u001b[1;31mSyntaxError\u001b[0m\u001b[1;31m:\u001b[0m invalid syntax\n"
     ]
    }
   ],
   "source": [
    "# Use plot to show relationship of price and time stamp\n",
    "pip install plotly\n",
    "import plotly.graph_objects as go\n",
    "from datetime import datetime\n",
    "%matplotlib inline\n",
    "\n",
    "fig = go.Figure(data=[go.Candlestick(x=df['date'],\n",
    "                open=df['open'],\n",
    "                high=df['high'],\n",
    "                low=df['low'],\n",
    "                close=df['close'])])\n",
    "\n",
    "fig.show()"
   ]
  },
  {
   "cell_type": "code",
   "execution_count": null,
   "metadata": {},
   "outputs": [],
   "source": []
  }
 ],
 "metadata": {
  "kernelspec": {
   "display_name": "Python 3",
   "language": "python",
   "name": "python3"
  },
  "language_info": {
   "codemirror_mode": {
    "name": "ipython",
    "version": 3
   },
   "file_extension": ".py",
   "mimetype": "text/x-python",
   "name": "python",
   "nbconvert_exporter": "python",
   "pygments_lexer": "ipython3",
   "version": "3.8.2"
  }
 },
 "nbformat": 4,
 "nbformat_minor": 4
}
