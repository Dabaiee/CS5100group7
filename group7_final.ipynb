{
  "cells": [
    {
      "cell_type": "markdown",
      "metadata": {
        "id": "view-in-github",
        "colab_type": "text"
      },
      "source": [
        "<a href=\"https://colab.research.google.com/github/Dabaiee/CS5100group7/blob/main/group7_final.ipynb\" target=\"_parent\"><img src=\"https://colab.research.google.com/assets/colab-badge.svg\" alt=\"Open In Colab\"/></a>"
      ]
    },
    {
      "cell_type": "code",
      "execution_count": 1,
      "metadata": {
        "id": "ZVqARq2_plCI"
      },
      "outputs": [],
      "source": [
        "# pip install keras \n",
        "import math\n",
        "import pandas_datareader as web\n",
        "import numpy as np\n",
        "import pandas as pd\n",
        "import datetime as dt\n",
        "import seaborn as sns\n",
        "\n",
        "from sklearn.preprocessing import MinMaxScaler\n",
        "from keras.models import Sequential\n",
        "from keras.layers import Dense, LSTM\n",
        "import matplotlib.pyplot as plt\n",
        "plt.style.use('fivethirtyeight')"
      ]
    },
    {
      "cell_type": "markdown",
      "metadata": {
        "id": "eFpHL1ZvplCJ"
      },
      "source": [
        "# Load the data"
      ]
    },
    {
      "cell_type": "markdown",
      "source": [
        "# Validate the data frame\n",
        "# To validate the data frame is empty or not"
      ],
      "metadata": {
        "id": "vcQQQvdBdoe8"
      }
    },
    {
      "cell_type": "code",
      "source": [
        "def read_url(url):\n",
        "    df = pd.read_csv(url)\n",
        "    if(df.empty):\n",
        "        print ('url file is empty')\n",
        "    else:\n",
        "        print ('url file is not empty')\n",
        "        return df"
      ],
      "metadata": {
        "id": "gbEWvRjvY_om"
      },
      "execution_count": 2,
      "outputs": []
    },
    {
      "cell_type": "code",
      "execution_count": 3,
      "metadata": {
        "colab": {
          "base_uri": "https://localhost:8080/",
          "height": 424
        },
        "outputId": "da43c1b9-dd3f-4e8b-bb3b-fb4a62f4911d",
        "id": "iueF-Bp7RC_R"
      },
      "outputs": [
        {
          "output_type": "execute_result",
          "data": {
            "text/plain": [
              "            Date         Open         High          Low        Close  \\\n",
              "0     2017-11-09   308.644989   329.451996   307.056000   320.884003   \n",
              "1     2017-11-10   320.670990   324.717987   294.541992   299.252991   \n",
              "2     2017-11-11   298.585999   319.453003   298.191986   314.681000   \n",
              "3     2017-11-12   314.690002   319.153015   298.513000   307.907990   \n",
              "4     2017-11-13   307.024994   328.415009   307.024994   316.716003   \n",
              "...          ...          ...          ...          ...          ...   \n",
              "1828  2022-11-11  1298.882446  1302.295288  1211.329590  1287.221069   \n",
              "1829  2022-11-12  1287.438354  1288.150879  1242.152222  1255.268311   \n",
              "1830  2022-11-13  1255.441284  1271.712524  1208.520996  1221.819214   \n",
              "1831  2022-11-14  1221.895508  1284.217651  1178.429077  1241.604248   \n",
              "1832  2022-11-15  1241.773926  1282.823608  1238.688232  1253.259399   \n",
              "\n",
              "        Adj Close       Volume  \n",
              "0      320.884003    893249984  \n",
              "1      299.252991    885985984  \n",
              "2      314.681000    842300992  \n",
              "3      307.907990   1613479936  \n",
              "4      316.716003   1041889984  \n",
              "...           ...          ...  \n",
              "1828  1287.221069  20920539099  \n",
              "1829  1255.268311  10964962767  \n",
              "1830  1221.819214  10717455214  \n",
              "1831  1241.604248  15028035663  \n",
              "1832  1253.259399  12138597376  \n",
              "\n",
              "[1833 rows x 7 columns]"
            ],
            "text/html": [
              "\n",
              "  <div id=\"df-89fad12b-ede2-4563-a0fb-1ca1cc8030a8\">\n",
              "    <div class=\"colab-df-container\">\n",
              "      <div>\n",
              "<style scoped>\n",
              "    .dataframe tbody tr th:only-of-type {\n",
              "        vertical-align: middle;\n",
              "    }\n",
              "\n",
              "    .dataframe tbody tr th {\n",
              "        vertical-align: top;\n",
              "    }\n",
              "\n",
              "    .dataframe thead th {\n",
              "        text-align: right;\n",
              "    }\n",
              "</style>\n",
              "<table border=\"1\" class=\"dataframe\">\n",
              "  <thead>\n",
              "    <tr style=\"text-align: right;\">\n",
              "      <th></th>\n",
              "      <th>Date</th>\n",
              "      <th>Open</th>\n",
              "      <th>High</th>\n",
              "      <th>Low</th>\n",
              "      <th>Close</th>\n",
              "      <th>Adj Close</th>\n",
              "      <th>Volume</th>\n",
              "    </tr>\n",
              "  </thead>\n",
              "  <tbody>\n",
              "    <tr>\n",
              "      <th>0</th>\n",
              "      <td>2017-11-09</td>\n",
              "      <td>308.644989</td>\n",
              "      <td>329.451996</td>\n",
              "      <td>307.056000</td>\n",
              "      <td>320.884003</td>\n",
              "      <td>320.884003</td>\n",
              "      <td>893249984</td>\n",
              "    </tr>\n",
              "    <tr>\n",
              "      <th>1</th>\n",
              "      <td>2017-11-10</td>\n",
              "      <td>320.670990</td>\n",
              "      <td>324.717987</td>\n",
              "      <td>294.541992</td>\n",
              "      <td>299.252991</td>\n",
              "      <td>299.252991</td>\n",
              "      <td>885985984</td>\n",
              "    </tr>\n",
              "    <tr>\n",
              "      <th>2</th>\n",
              "      <td>2017-11-11</td>\n",
              "      <td>298.585999</td>\n",
              "      <td>319.453003</td>\n",
              "      <td>298.191986</td>\n",
              "      <td>314.681000</td>\n",
              "      <td>314.681000</td>\n",
              "      <td>842300992</td>\n",
              "    </tr>\n",
              "    <tr>\n",
              "      <th>3</th>\n",
              "      <td>2017-11-12</td>\n",
              "      <td>314.690002</td>\n",
              "      <td>319.153015</td>\n",
              "      <td>298.513000</td>\n",
              "      <td>307.907990</td>\n",
              "      <td>307.907990</td>\n",
              "      <td>1613479936</td>\n",
              "    </tr>\n",
              "    <tr>\n",
              "      <th>4</th>\n",
              "      <td>2017-11-13</td>\n",
              "      <td>307.024994</td>\n",
              "      <td>328.415009</td>\n",
              "      <td>307.024994</td>\n",
              "      <td>316.716003</td>\n",
              "      <td>316.716003</td>\n",
              "      <td>1041889984</td>\n",
              "    </tr>\n",
              "    <tr>\n",
              "      <th>...</th>\n",
              "      <td>...</td>\n",
              "      <td>...</td>\n",
              "      <td>...</td>\n",
              "      <td>...</td>\n",
              "      <td>...</td>\n",
              "      <td>...</td>\n",
              "      <td>...</td>\n",
              "    </tr>\n",
              "    <tr>\n",
              "      <th>1828</th>\n",
              "      <td>2022-11-11</td>\n",
              "      <td>1298.882446</td>\n",
              "      <td>1302.295288</td>\n",
              "      <td>1211.329590</td>\n",
              "      <td>1287.221069</td>\n",
              "      <td>1287.221069</td>\n",
              "      <td>20920539099</td>\n",
              "    </tr>\n",
              "    <tr>\n",
              "      <th>1829</th>\n",
              "      <td>2022-11-12</td>\n",
              "      <td>1287.438354</td>\n",
              "      <td>1288.150879</td>\n",
              "      <td>1242.152222</td>\n",
              "      <td>1255.268311</td>\n",
              "      <td>1255.268311</td>\n",
              "      <td>10964962767</td>\n",
              "    </tr>\n",
              "    <tr>\n",
              "      <th>1830</th>\n",
              "      <td>2022-11-13</td>\n",
              "      <td>1255.441284</td>\n",
              "      <td>1271.712524</td>\n",
              "      <td>1208.520996</td>\n",
              "      <td>1221.819214</td>\n",
              "      <td>1221.819214</td>\n",
              "      <td>10717455214</td>\n",
              "    </tr>\n",
              "    <tr>\n",
              "      <th>1831</th>\n",
              "      <td>2022-11-14</td>\n",
              "      <td>1221.895508</td>\n",
              "      <td>1284.217651</td>\n",
              "      <td>1178.429077</td>\n",
              "      <td>1241.604248</td>\n",
              "      <td>1241.604248</td>\n",
              "      <td>15028035663</td>\n",
              "    </tr>\n",
              "    <tr>\n",
              "      <th>1832</th>\n",
              "      <td>2022-11-15</td>\n",
              "      <td>1241.773926</td>\n",
              "      <td>1282.823608</td>\n",
              "      <td>1238.688232</td>\n",
              "      <td>1253.259399</td>\n",
              "      <td>1253.259399</td>\n",
              "      <td>12138597376</td>\n",
              "    </tr>\n",
              "  </tbody>\n",
              "</table>\n",
              "<p>1833 rows × 7 columns</p>\n",
              "</div>\n",
              "      <button class=\"colab-df-convert\" onclick=\"convertToInteractive('df-89fad12b-ede2-4563-a0fb-1ca1cc8030a8')\"\n",
              "              title=\"Convert this dataframe to an interactive table.\"\n",
              "              style=\"display:none;\">\n",
              "        \n",
              "  <svg xmlns=\"http://www.w3.org/2000/svg\" height=\"24px\"viewBox=\"0 0 24 24\"\n",
              "       width=\"24px\">\n",
              "    <path d=\"M0 0h24v24H0V0z\" fill=\"none\"/>\n",
              "    <path d=\"M18.56 5.44l.94 2.06.94-2.06 2.06-.94-2.06-.94-.94-2.06-.94 2.06-2.06.94zm-11 1L8.5 8.5l.94-2.06 2.06-.94-2.06-.94L8.5 2.5l-.94 2.06-2.06.94zm10 10l.94 2.06.94-2.06 2.06-.94-2.06-.94-.94-2.06-.94 2.06-2.06.94z\"/><path d=\"M17.41 7.96l-1.37-1.37c-.4-.4-.92-.59-1.43-.59-.52 0-1.04.2-1.43.59L10.3 9.45l-7.72 7.72c-.78.78-.78 2.05 0 2.83L4 21.41c.39.39.9.59 1.41.59.51 0 1.02-.2 1.41-.59l7.78-7.78 2.81-2.81c.8-.78.8-2.07 0-2.86zM5.41 20L4 18.59l7.72-7.72 1.47 1.35L5.41 20z\"/>\n",
              "  </svg>\n",
              "      </button>\n",
              "      \n",
              "  <style>\n",
              "    .colab-df-container {\n",
              "      display:flex;\n",
              "      flex-wrap:wrap;\n",
              "      gap: 12px;\n",
              "    }\n",
              "\n",
              "    .colab-df-convert {\n",
              "      background-color: #E8F0FE;\n",
              "      border: none;\n",
              "      border-radius: 50%;\n",
              "      cursor: pointer;\n",
              "      display: none;\n",
              "      fill: #1967D2;\n",
              "      height: 32px;\n",
              "      padding: 0 0 0 0;\n",
              "      width: 32px;\n",
              "    }\n",
              "\n",
              "    .colab-df-convert:hover {\n",
              "      background-color: #E2EBFA;\n",
              "      box-shadow: 0px 1px 2px rgba(60, 64, 67, 0.3), 0px 1px 3px 1px rgba(60, 64, 67, 0.15);\n",
              "      fill: #174EA6;\n",
              "    }\n",
              "\n",
              "    [theme=dark] .colab-df-convert {\n",
              "      background-color: #3B4455;\n",
              "      fill: #D2E3FC;\n",
              "    }\n",
              "\n",
              "    [theme=dark] .colab-df-convert:hover {\n",
              "      background-color: #434B5C;\n",
              "      box-shadow: 0px 1px 3px 1px rgba(0, 0, 0, 0.15);\n",
              "      filter: drop-shadow(0px 1px 2px rgba(0, 0, 0, 0.3));\n",
              "      fill: #FFFFFF;\n",
              "    }\n",
              "  </style>\n",
              "\n",
              "      <script>\n",
              "        const buttonEl =\n",
              "          document.querySelector('#df-89fad12b-ede2-4563-a0fb-1ca1cc8030a8 button.colab-df-convert');\n",
              "        buttonEl.style.display =\n",
              "          google.colab.kernel.accessAllowed ? 'block' : 'none';\n",
              "\n",
              "        async function convertToInteractive(key) {\n",
              "          const element = document.querySelector('#df-89fad12b-ede2-4563-a0fb-1ca1cc8030a8');\n",
              "          const dataTable =\n",
              "            await google.colab.kernel.invokeFunction('convertToInteractive',\n",
              "                                                     [key], {});\n",
              "          if (!dataTable) return;\n",
              "\n",
              "          const docLinkHtml = 'Like what you see? Visit the ' +\n",
              "            '<a target=\"_blank\" href=https://colab.research.google.com/notebooks/data_table.ipynb>data table notebook</a>'\n",
              "            + ' to learn more about interactive tables.';\n",
              "          element.innerHTML = '';\n",
              "          dataTable['output_type'] = 'display_data';\n",
              "          await google.colab.output.renderOutput(dataTable, element);\n",
              "          const docLink = document.createElement('div');\n",
              "          docLink.innerHTML = docLinkHtml;\n",
              "          element.appendChild(docLink);\n",
              "        }\n",
              "      </script>\n",
              "    </div>\n",
              "  </div>\n",
              "  "
            ]
          },
          "metadata": {},
          "execution_count": 3
        }
      ],
      "source": [
        "#1st approach get data from our github\n",
        "url = 'https://raw.githubusercontent.com/Dabaiee/CS5100group7/main/datasets/ETH-USD.csv'\n",
        "df = pd.read_csv(url)\n",
        "df"
      ]
    },
    {
      "cell_type": "code",
      "source": [
        "read_url(url)"
      ],
      "metadata": {
        "id": "fbd1q2sDZNxi",
        "outputId": "59b29e7d-1589-4b44-b716-b67fed61b913",
        "colab": {
          "base_uri": "https://localhost:8080/",
          "height": 442
        }
      },
      "execution_count": 4,
      "outputs": [
        {
          "output_type": "stream",
          "name": "stdout",
          "text": [
            "url file is not empty\n"
          ]
        },
        {
          "output_type": "execute_result",
          "data": {
            "text/plain": [
              "            Date         Open         High          Low        Close  \\\n",
              "0     2017-11-09   308.644989   329.451996   307.056000   320.884003   \n",
              "1     2017-11-10   320.670990   324.717987   294.541992   299.252991   \n",
              "2     2017-11-11   298.585999   319.453003   298.191986   314.681000   \n",
              "3     2017-11-12   314.690002   319.153015   298.513000   307.907990   \n",
              "4     2017-11-13   307.024994   328.415009   307.024994   316.716003   \n",
              "...          ...          ...          ...          ...          ...   \n",
              "1828  2022-11-11  1298.882446  1302.295288  1211.329590  1287.221069   \n",
              "1829  2022-11-12  1287.438354  1288.150879  1242.152222  1255.268311   \n",
              "1830  2022-11-13  1255.441284  1271.712524  1208.520996  1221.819214   \n",
              "1831  2022-11-14  1221.895508  1284.217651  1178.429077  1241.604248   \n",
              "1832  2022-11-15  1241.773926  1282.823608  1238.688232  1253.259399   \n",
              "\n",
              "        Adj Close       Volume  \n",
              "0      320.884003    893249984  \n",
              "1      299.252991    885985984  \n",
              "2      314.681000    842300992  \n",
              "3      307.907990   1613479936  \n",
              "4      316.716003   1041889984  \n",
              "...           ...          ...  \n",
              "1828  1287.221069  20920539099  \n",
              "1829  1255.268311  10964962767  \n",
              "1830  1221.819214  10717455214  \n",
              "1831  1241.604248  15028035663  \n",
              "1832  1253.259399  12138597376  \n",
              "\n",
              "[1833 rows x 7 columns]"
            ],
            "text/html": [
              "\n",
              "  <div id=\"df-623275f4-557e-46eb-ae8e-5fbe832825a9\">\n",
              "    <div class=\"colab-df-container\">\n",
              "      <div>\n",
              "<style scoped>\n",
              "    .dataframe tbody tr th:only-of-type {\n",
              "        vertical-align: middle;\n",
              "    }\n",
              "\n",
              "    .dataframe tbody tr th {\n",
              "        vertical-align: top;\n",
              "    }\n",
              "\n",
              "    .dataframe thead th {\n",
              "        text-align: right;\n",
              "    }\n",
              "</style>\n",
              "<table border=\"1\" class=\"dataframe\">\n",
              "  <thead>\n",
              "    <tr style=\"text-align: right;\">\n",
              "      <th></th>\n",
              "      <th>Date</th>\n",
              "      <th>Open</th>\n",
              "      <th>High</th>\n",
              "      <th>Low</th>\n",
              "      <th>Close</th>\n",
              "      <th>Adj Close</th>\n",
              "      <th>Volume</th>\n",
              "    </tr>\n",
              "  </thead>\n",
              "  <tbody>\n",
              "    <tr>\n",
              "      <th>0</th>\n",
              "      <td>2017-11-09</td>\n",
              "      <td>308.644989</td>\n",
              "      <td>329.451996</td>\n",
              "      <td>307.056000</td>\n",
              "      <td>320.884003</td>\n",
              "      <td>320.884003</td>\n",
              "      <td>893249984</td>\n",
              "    </tr>\n",
              "    <tr>\n",
              "      <th>1</th>\n",
              "      <td>2017-11-10</td>\n",
              "      <td>320.670990</td>\n",
              "      <td>324.717987</td>\n",
              "      <td>294.541992</td>\n",
              "      <td>299.252991</td>\n",
              "      <td>299.252991</td>\n",
              "      <td>885985984</td>\n",
              "    </tr>\n",
              "    <tr>\n",
              "      <th>2</th>\n",
              "      <td>2017-11-11</td>\n",
              "      <td>298.585999</td>\n",
              "      <td>319.453003</td>\n",
              "      <td>298.191986</td>\n",
              "      <td>314.681000</td>\n",
              "      <td>314.681000</td>\n",
              "      <td>842300992</td>\n",
              "    </tr>\n",
              "    <tr>\n",
              "      <th>3</th>\n",
              "      <td>2017-11-12</td>\n",
              "      <td>314.690002</td>\n",
              "      <td>319.153015</td>\n",
              "      <td>298.513000</td>\n",
              "      <td>307.907990</td>\n",
              "      <td>307.907990</td>\n",
              "      <td>1613479936</td>\n",
              "    </tr>\n",
              "    <tr>\n",
              "      <th>4</th>\n",
              "      <td>2017-11-13</td>\n",
              "      <td>307.024994</td>\n",
              "      <td>328.415009</td>\n",
              "      <td>307.024994</td>\n",
              "      <td>316.716003</td>\n",
              "      <td>316.716003</td>\n",
              "      <td>1041889984</td>\n",
              "    </tr>\n",
              "    <tr>\n",
              "      <th>...</th>\n",
              "      <td>...</td>\n",
              "      <td>...</td>\n",
              "      <td>...</td>\n",
              "      <td>...</td>\n",
              "      <td>...</td>\n",
              "      <td>...</td>\n",
              "      <td>...</td>\n",
              "    </tr>\n",
              "    <tr>\n",
              "      <th>1828</th>\n",
              "      <td>2022-11-11</td>\n",
              "      <td>1298.882446</td>\n",
              "      <td>1302.295288</td>\n",
              "      <td>1211.329590</td>\n",
              "      <td>1287.221069</td>\n",
              "      <td>1287.221069</td>\n",
              "      <td>20920539099</td>\n",
              "    </tr>\n",
              "    <tr>\n",
              "      <th>1829</th>\n",
              "      <td>2022-11-12</td>\n",
              "      <td>1287.438354</td>\n",
              "      <td>1288.150879</td>\n",
              "      <td>1242.152222</td>\n",
              "      <td>1255.268311</td>\n",
              "      <td>1255.268311</td>\n",
              "      <td>10964962767</td>\n",
              "    </tr>\n",
              "    <tr>\n",
              "      <th>1830</th>\n",
              "      <td>2022-11-13</td>\n",
              "      <td>1255.441284</td>\n",
              "      <td>1271.712524</td>\n",
              "      <td>1208.520996</td>\n",
              "      <td>1221.819214</td>\n",
              "      <td>1221.819214</td>\n",
              "      <td>10717455214</td>\n",
              "    </tr>\n",
              "    <tr>\n",
              "      <th>1831</th>\n",
              "      <td>2022-11-14</td>\n",
              "      <td>1221.895508</td>\n",
              "      <td>1284.217651</td>\n",
              "      <td>1178.429077</td>\n",
              "      <td>1241.604248</td>\n",
              "      <td>1241.604248</td>\n",
              "      <td>15028035663</td>\n",
              "    </tr>\n",
              "    <tr>\n",
              "      <th>1832</th>\n",
              "      <td>2022-11-15</td>\n",
              "      <td>1241.773926</td>\n",
              "      <td>1282.823608</td>\n",
              "      <td>1238.688232</td>\n",
              "      <td>1253.259399</td>\n",
              "      <td>1253.259399</td>\n",
              "      <td>12138597376</td>\n",
              "    </tr>\n",
              "  </tbody>\n",
              "</table>\n",
              "<p>1833 rows × 7 columns</p>\n",
              "</div>\n",
              "      <button class=\"colab-df-convert\" onclick=\"convertToInteractive('df-623275f4-557e-46eb-ae8e-5fbe832825a9')\"\n",
              "              title=\"Convert this dataframe to an interactive table.\"\n",
              "              style=\"display:none;\">\n",
              "        \n",
              "  <svg xmlns=\"http://www.w3.org/2000/svg\" height=\"24px\"viewBox=\"0 0 24 24\"\n",
              "       width=\"24px\">\n",
              "    <path d=\"M0 0h24v24H0V0z\" fill=\"none\"/>\n",
              "    <path d=\"M18.56 5.44l.94 2.06.94-2.06 2.06-.94-2.06-.94-.94-2.06-.94 2.06-2.06.94zm-11 1L8.5 8.5l.94-2.06 2.06-.94-2.06-.94L8.5 2.5l-.94 2.06-2.06.94zm10 10l.94 2.06.94-2.06 2.06-.94-2.06-.94-.94-2.06-.94 2.06-2.06.94z\"/><path d=\"M17.41 7.96l-1.37-1.37c-.4-.4-.92-.59-1.43-.59-.52 0-1.04.2-1.43.59L10.3 9.45l-7.72 7.72c-.78.78-.78 2.05 0 2.83L4 21.41c.39.39.9.59 1.41.59.51 0 1.02-.2 1.41-.59l7.78-7.78 2.81-2.81c.8-.78.8-2.07 0-2.86zM5.41 20L4 18.59l7.72-7.72 1.47 1.35L5.41 20z\"/>\n",
              "  </svg>\n",
              "      </button>\n",
              "      \n",
              "  <style>\n",
              "    .colab-df-container {\n",
              "      display:flex;\n",
              "      flex-wrap:wrap;\n",
              "      gap: 12px;\n",
              "    }\n",
              "\n",
              "    .colab-df-convert {\n",
              "      background-color: #E8F0FE;\n",
              "      border: none;\n",
              "      border-radius: 50%;\n",
              "      cursor: pointer;\n",
              "      display: none;\n",
              "      fill: #1967D2;\n",
              "      height: 32px;\n",
              "      padding: 0 0 0 0;\n",
              "      width: 32px;\n",
              "    }\n",
              "\n",
              "    .colab-df-convert:hover {\n",
              "      background-color: #E2EBFA;\n",
              "      box-shadow: 0px 1px 2px rgba(60, 64, 67, 0.3), 0px 1px 3px 1px rgba(60, 64, 67, 0.15);\n",
              "      fill: #174EA6;\n",
              "    }\n",
              "\n",
              "    [theme=dark] .colab-df-convert {\n",
              "      background-color: #3B4455;\n",
              "      fill: #D2E3FC;\n",
              "    }\n",
              "\n",
              "    [theme=dark] .colab-df-convert:hover {\n",
              "      background-color: #434B5C;\n",
              "      box-shadow: 0px 1px 3px 1px rgba(0, 0, 0, 0.15);\n",
              "      filter: drop-shadow(0px 1px 2px rgba(0, 0, 0, 0.3));\n",
              "      fill: #FFFFFF;\n",
              "    }\n",
              "  </style>\n",
              "\n",
              "      <script>\n",
              "        const buttonEl =\n",
              "          document.querySelector('#df-623275f4-557e-46eb-ae8e-5fbe832825a9 button.colab-df-convert');\n",
              "        buttonEl.style.display =\n",
              "          google.colab.kernel.accessAllowed ? 'block' : 'none';\n",
              "\n",
              "        async function convertToInteractive(key) {\n",
              "          const element = document.querySelector('#df-623275f4-557e-46eb-ae8e-5fbe832825a9');\n",
              "          const dataTable =\n",
              "            await google.colab.kernel.invokeFunction('convertToInteractive',\n",
              "                                                     [key], {});\n",
              "          if (!dataTable) return;\n",
              "\n",
              "          const docLinkHtml = 'Like what you see? Visit the ' +\n",
              "            '<a target=\"_blank\" href=https://colab.research.google.com/notebooks/data_table.ipynb>data table notebook</a>'\n",
              "            + ' to learn more about interactive tables.';\n",
              "          element.innerHTML = '';\n",
              "          dataTable['output_type'] = 'display_data';\n",
              "          await google.colab.output.renderOutput(dataTable, element);\n",
              "          const docLink = document.createElement('div');\n",
              "          docLink.innerHTML = docLinkHtml;\n",
              "          element.appendChild(docLink);\n",
              "        }\n",
              "      </script>\n",
              "    </div>\n",
              "  </div>\n",
              "  "
            ]
          },
          "metadata": {},
          "execution_count": 4
        }
      ]
    },
    {
      "cell_type": "markdown",
      "source": [
        "#data types"
      ],
      "metadata": {
        "id": "OTDo3Foud46E"
      }
    },
    {
      "cell_type": "code",
      "source": [
        "print(df.dtypes)"
      ],
      "metadata": {
        "id": "lIUKOvOOaKKL",
        "outputId": "bfdad87b-3738-4d77-d3be-6cc545c0fa1f",
        "colab": {
          "base_uri": "https://localhost:8080/"
        }
      },
      "execution_count": 5,
      "outputs": [
        {
          "output_type": "stream",
          "name": "stdout",
          "text": [
            "Date          object\n",
            "Open         float64\n",
            "High         float64\n",
            "Low          float64\n",
            "Close        float64\n",
            "Adj Close    float64\n",
            "Volume         int64\n",
            "dtype: object\n"
          ]
        }
      ]
    },
    {
      "cell_type": "markdown",
      "source": [
        "#validate data to check missing values"
      ],
      "metadata": {
        "id": "Xg6N6DXkdXk9"
      }
    },
    {
      "cell_type": "code",
      "source": [
        "df.columns"
      ],
      "metadata": {
        "id": "0gKOiZNUcFmc",
        "outputId": "0176c073-8fad-4734-8f16-bd6e37fa925a",
        "colab": {
          "base_uri": "https://localhost:8080/"
        }
      },
      "execution_count": 6,
      "outputs": [
        {
          "output_type": "execute_result",
          "data": {
            "text/plain": [
              "Index(['Date', 'Open', 'High', 'Low', 'Close', 'Adj Close', 'Volume'], dtype='object')"
            ]
          },
          "metadata": {},
          "execution_count": 6
        }
      ]
    },
    {
      "cell_type": "code",
      "source": [
        "for col in df.columns:\n",
        "    miss = df[col].isnull().sum()\n",
        "    if miss>0:\n",
        "        print(\"{} has {} missing value(s)\".format(col,miss))\n",
        "    else:\n",
        "        print(\"{} has NO missing value!\".format(col))"
      ],
      "metadata": {
        "id": "J5jMLbMac-Na",
        "outputId": "01fb3192-4023-4492-9956-5b9a13e6929b",
        "colab": {
          "base_uri": "https://localhost:8080/"
        }
      },
      "execution_count": 7,
      "outputs": [
        {
          "output_type": "stream",
          "name": "stdout",
          "text": [
            "Date has NO missing value!\n",
            "Open has NO missing value!\n",
            "High has NO missing value!\n",
            "Low has NO missing value!\n",
            "Close has NO missing value!\n",
            "Adj Close has NO missing value!\n",
            "Volume has NO missing value!\n"
          ]
        }
      ]
    },
    {
      "cell_type": "code",
      "source": [
        "for col in df.columns:\n",
        "    if df[col].dtype == 'object':\n",
        "        try:\n",
        "            df[col] = pd.to_datetime(df[col])\n",
        "        except ValueError:\n",
        "            pass\n",
        "print(df.dtypes)"
      ],
      "metadata": {
        "id": "CLuYXp-Hec1I",
        "outputId": "d10b80fd-5871-40a5-b31e-d4f01b881f66",
        "colab": {
          "base_uri": "https://localhost:8080/"
        }
      },
      "execution_count": 8,
      "outputs": [
        {
          "output_type": "stream",
          "name": "stdout",
          "text": [
            "Date         datetime64[ns]\n",
            "Open                float64\n",
            "High                float64\n",
            "Low                 float64\n",
            "Close               float64\n",
            "Adj Close           float64\n",
            "Volume                int64\n",
            "dtype: object\n"
          ]
        }
      ]
    },
    {
      "cell_type": "code",
      "source": [
        "df['Close'].describe()"
      ],
      "metadata": {
        "colab": {
          "base_uri": "https://localhost:8080/"
        },
        "id": "j__NGkr8RkUV",
        "outputId": "9896e168-e942-4e2f-b831-8d91becf0f7b"
      },
      "execution_count": 9,
      "outputs": [
        {
          "output_type": "execute_result",
          "data": {
            "text/plain": [
              "count    1833.000000\n",
              "mean     1127.568915\n",
              "std      1202.639823\n",
              "min        84.308296\n",
              "25%       209.703995\n",
              "50%       474.626434\n",
              "75%      1799.166260\n",
              "max      4812.087402\n",
              "Name: Close, dtype: float64"
            ]
          },
          "metadata": {},
          "execution_count": 9
        }
      ]
    },
    {
      "cell_type": "code",
      "execution_count": 10,
      "metadata": {
        "id": "EiDzLc9u_WJO"
      },
      "outputs": [],
      "source": [
        "# !pip install --upgrade pandas-datareader\n",
        "\n",
        "# !pip install --upgrade pandas"
      ]
    },
    {
      "cell_type": "code",
      "execution_count": 11,
      "metadata": {
        "id": "CvLh2eNZw5Cc"
      },
      "outputs": [],
      "source": [
        "#2nd apprroach to get data\n",
        "#get data from yahoo\n",
        "# current = dt.datetime.now()\n",
        "# df = web.DataReader('ETH-USD', data_source='yahoo', start='2016-01-01', end=current)\n",
        "# df"
      ]
    },
    {
      "cell_type": "code",
      "execution_count": 12,
      "metadata": {
        "colab": {
          "base_uri": "https://localhost:8080/"
        },
        "id": "kic00EKz7Whq",
        "outputId": "5320641d-3848-47a8-d34e-ff54bd98d23e"
      },
      "outputs": [
        {
          "output_type": "stream",
          "name": "stdout",
          "text": [
            "<class 'pandas.core.frame.DataFrame'>\n",
            "RangeIndex: 1833 entries, 0 to 1832\n",
            "Data columns (total 7 columns):\n",
            " #   Column     Non-Null Count  Dtype         \n",
            "---  ------     --------------  -----         \n",
            " 0   Date       1833 non-null   datetime64[ns]\n",
            " 1   Open       1833 non-null   float64       \n",
            " 2   High       1833 non-null   float64       \n",
            " 3   Low        1833 non-null   float64       \n",
            " 4   Close      1833 non-null   float64       \n",
            " 5   Adj Close  1833 non-null   float64       \n",
            " 6   Volume     1833 non-null   int64         \n",
            "dtypes: datetime64[ns](1), float64(5), int64(1)\n",
            "memory usage: 100.4 KB\n"
          ]
        }
      ],
      "source": [
        "df.info()"
      ]
    },
    {
      "cell_type": "code",
      "execution_count": 13,
      "metadata": {
        "colab": {
          "base_uri": "https://localhost:8080/"
        },
        "id": "uZM6nHEW7eNa",
        "outputId": "e86a8b97-eda2-4015-b398-3557ff5cb6ae"
      },
      "outputs": [
        {
          "output_type": "execute_result",
          "data": {
            "text/plain": [
              "(1833, 7)"
            ]
          },
          "metadata": {},
          "execution_count": 13
        }
      ],
      "source": [
        "df.shape"
      ]
    },
    {
      "cell_type": "markdown",
      "metadata": {
        "id": "Bnyo_nQFplCK"
      },
      "source": [
        "# Visualization"
      ]
    },
    {
      "cell_type": "code",
      "execution_count": 14,
      "metadata": {
        "colab": {
          "base_uri": "https://localhost:8080/",
          "height": 558
        },
        "id": "kwGJ9attvNVN",
        "outputId": "ce9d59b7-6238-4325-9518-19275193b5fc"
      },
      "outputs": [
        {
          "output_type": "display_data",
          "data": {
            "text/plain": [
              "<Figure size 1152x576 with 1 Axes>"
            ],
            "image/png": "[encoded data removed]"
          },
          "metadata": {}
        }
      ],
      "source": [
        "#visualize the closing price\n",
        "plt.figure(figsize=(16,8))\n",
        "plt.title('Close Price History')\n",
        "plt.plot(df['Close'])\n",
        "plt.xlabel('Date', fontsize = 18)\n",
        "plt.ylabel('Close Price (USD)', fontsize = 18)\n",
        "plt.show()"
      ]
    },
    {
      "cell_type": "code",
      "execution_count": 15,
      "metadata": {
        "id": "EazJmavHZfKW",
        "outputId": "c7faafb0-ce2c-4907-b7ef-d93dfb836c9e",
        "colab": {
          "base_uri": "https://localhost:8080/"
        }
      },
      "outputs": [
        {
          "output_type": "execute_result",
          "data": {
            "text/plain": [
              "0               NaN\n",
              "1               NaN\n",
              "2               NaN\n",
              "3               NaN\n",
              "4               NaN\n",
              "           ...     \n",
              "1828    1507.766302\n",
              "1829    1504.236928\n",
              "1830    1499.132573\n",
              "1831    1494.632035\n",
              "1832    1490.171121\n",
              "Name: Close, Length: 1833, dtype: float64"
            ]
          },
          "metadata": {},
          "execution_count": 15
        }
      ],
      "source": [
        "move_average_100 = df.Close.rolling(100).mean()\n",
        "move_average_100"
      ]
    },
    {
      "cell_type": "code",
      "execution_count": 16,
      "metadata": {
        "id": "NGD29Q4Jbydo",
        "outputId": "dfd4a6b1-5bc9-4a8c-b9b4-213e07a0ee27",
        "colab": {
          "base_uri": "https://localhost:8080/"
        }
      },
      "outputs": [
        {
          "output_type": "execute_result",
          "data": {
            "text/plain": [
              "0               NaN\n",
              "1               NaN\n",
              "2               NaN\n",
              "3               NaN\n",
              "4               NaN\n",
              "           ...     \n",
              "1828    1606.376496\n",
              "1829    1598.611346\n",
              "1830    1590.275794\n",
              "1831    1581.799110\n",
              "1832    1573.987398\n",
              "Name: Close, Length: 1833, dtype: float64"
            ]
          },
          "metadata": {},
          "execution_count": 16
        }
      ],
      "source": [
        "move_average_200 = df.Close.rolling(200).mean()\n",
        "move_average_200"
      ]
    },
    {
      "cell_type": "code",
      "execution_count": 17,
      "metadata": {
        "id": "EOwZV_O3ZyzY",
        "outputId": "a172113f-6b78-40a4-d610-6e4acc4122e1",
        "colab": {
          "base_uri": "https://localhost:8080/",
          "height": 558
        }
      },
      "outputs": [
        {
          "output_type": "display_data",
          "data": {
            "text/plain": [
              "<Figure size 1152x576 with 1 Axes>"
            ],
            "image/png": "[encoded data removed]"
          },
          "metadata": {}
        }
      ],
      "source": [
        "plt.figure(figsize=(16,8))\n",
        "plt.title('Close Price History with Moving Average')\n",
        "plt.plot(df['Close'])\n",
        "plt.plot(move_average_100, 'r')\n",
        "plt.plot(move_average_200, 'g')\n",
        "plt.xlabel('Date', fontsize = 18)\n",
        "plt.ylabel('Close Price (USD)', fontsize = 18)\n",
        "plt.show()\n"
      ]
    },
    {
      "cell_type": "code",
      "execution_count": 18,
      "metadata": {
        "colab": {
          "base_uri": "https://localhost:8080/"
        },
        "id": "9B4jcSyt8Lrz",
        "outputId": "a7d917b2-f526-4d57-b2d2-5d6d7117c8e1"
      },
      "outputs": [
        {
          "output_type": "execute_result",
          "data": {
            "text/plain": [
              "1467"
            ]
          },
          "metadata": {},
          "execution_count": 18
        }
      ],
      "source": [
        " #create a new dataframe with 'Close' column\n",
        "data = df.filter(['Close'])\n",
        "#convert the dataframe into an array\n",
        "dataset = data.values\n",
        "#count number of data to train the model\n",
        "training_data_len = math.ceil(len(dataset) * 0.8)\n",
        "training_data_len\n"
      ]
    },
    {
      "cell_type": "code",
      "execution_count": 19,
      "metadata": {
        "colab": {
          "base_uri": "https://localhost:8080/"
        },
        "outputId": "5a79a349-9ff5-4afb-b498-9fc10d46f54b",
        "id": "BkDt2T_hRC_V"
      },
      "outputs": [
        {
          "output_type": "execute_result",
          "data": {
            "text/plain": [
              "array([[0.0500395 ],\n",
              "       [0.0454642 ],\n",
              "       [0.04872747],\n",
              "       ...,\n",
              "       [0.24060154],\n",
              "       [0.24478638],\n",
              "       [0.24725163]])"
            ]
          },
          "metadata": {},
          "execution_count": 19
        }
      ],
      "source": [
        "#Scale the data - it is advantage to pre processing the scaling to input data before neural network\n",
        "scaler = MinMaxScaler(feature_range=(0,1))\n",
        "scaled_data = scaler.fit_transform(dataset)\n",
        "scaled_data"
      ]
    },
    {
      "cell_type": "code",
      "execution_count": 20,
      "metadata": {
        "id": "7EyOa_i8j0fM"
      },
      "outputs": [],
      "source": [
        "#create the training data set\n",
        "#create the scaled training data set\n",
        "train_data = scaled_data[0:training_data_len, :]\n",
        "train_data\n",
        "#split the data into x_train and y_train data sets\n",
        "#x_train is train feature\n",
        "x_train = []\n",
        "#y_train is target var\n",
        "y_train = []\n",
        "\n",
        "#we use past continuously 60 days of x to predict the 61st day of y, \n",
        "for i in range(60, len(train_data)):\n",
        "  x_train.append(train_data[i-60:i, 0])\n",
        "  y_train.append(train_data[i, 0])\n",
        "  # if i <= 61:\n",
        "  #   print('x',x_train)\n",
        "  #   print('y',y_train)\n",
        "  #   print('.............')"
      ]
    },
    {
      "cell_type": "code",
      "execution_count": 21,
      "metadata": {
        "id": "quN-jbz7mJol"
      },
      "outputs": [],
      "source": [
        "#convert the x_train and y_train to an array\n",
        "x_train = np.array(x_train)\n",
        "y_train = np.array(y_train)"
      ]
    },
    {
      "cell_type": "code",
      "execution_count": 22,
      "metadata": {
        "colab": {
          "base_uri": "https://localhost:8080/"
        },
        "id": "u0C3aBIbp2Ec",
        "outputId": "7efbd1eb-45c4-468b-e404-974ee19d74a7"
      },
      "outputs": [
        {
          "output_type": "execute_result",
          "data": {
            "text/plain": [
              "(1407, 60)"
            ]
          },
          "metadata": {},
          "execution_count": 22
        }
      ],
      "source": [
        "#we start at index 59 -> 60th of x\n",
        "x_train.shape"
      ]
    },
    {
      "cell_type": "code",
      "execution_count": 23,
      "metadata": {
        "colab": {
          "base_uri": "https://localhost:8080/"
        },
        "id": "-QKLT6Vzo8M1",
        "outputId": "9c0df544-e9a7-4376-bfae-5dc3ebb4bd3d"
      },
      "outputs": [
        {
          "output_type": "execute_result",
          "data": {
            "text/plain": [
              "(1407, 60, 1)"
            ]
          },
          "metadata": {},
          "execution_count": 23
        }
      ],
      "source": [
        "#LSTM need input to be 3-D (num of samples, num of time steps, num of features) \n",
        "#therefore, need to reshape the data\n",
        "x_train = np.reshape(x_train, (x_train.shape[0], x_train.shape[1], 1))\n",
        "x_train.shape"
      ]
    },
    {
      "cell_type": "code",
      "execution_count": 24,
      "metadata": {
        "id": "k16TQvTb6LXX"
      },
      "outputs": [],
      "source": [
        "from keras.engine import input_layer\n",
        "#build the LSTM model (continuously dataset)\n",
        "#LSTM is one of the recurrent neural network\n",
        "model = Sequential()\n",
        "#use 50 neurons\n",
        "model.add(LSTM(50, return_sequences=True, input_shape = (x_train.shape[1], 1)))\n",
        "model.add(LSTM(50, return_sequences=False))\n",
        "model.add(Dense(25))\n",
        "model.add(Dense(1))"
      ]
    },
    {
      "cell_type": "code",
      "execution_count": 25,
      "metadata": {
        "id": "hROtFXCA8h5q"
      },
      "outputs": [],
      "source": [
        "#compile the model\n",
        "#optimizer is used to improve the loss function (adaptive moment)\n",
        "#loss function measure the accurate of model on training\n",
        "model.compile(optimizer='adam', loss='mean_squared_error')"
      ]
    },
    {
      "cell_type": "code",
      "execution_count": 26,
      "metadata": {
        "colab": {
          "base_uri": "https://localhost:8080/"
        },
        "id": "zSOA1-CD9ttX",
        "outputId": "6fe2389c-98e8-4a81-ac53-d949877ac96b"
      },
      "outputs": [
        {
          "output_type": "stream",
          "name": "stdout",
          "text": [
            "1407/1407 [==============================] - 75s 48ms/step - loss: 0.0023\n"
          ]
        },
        {
          "output_type": "execute_result",
          "data": {
            "text/plain": [
              "<keras.callbacks.History at 0x7fbdd6b39220>"
            ]
          },
          "metadata": {},
          "execution_count": 26
        }
      ],
      "source": [
        "#train the model\n",
        "#batch size is the total number of training examples present in a single batch\n",
        "#epochs is the iterations when an entire dataset is passed forward and backward thru a neural netwok\n",
        "model.fit(x_train, y_train, batch_size=1, epochs=1)"
      ]
    },
    {
      "cell_type": "code",
      "execution_count": 27,
      "metadata": {
        "colab": {
          "base_uri": "https://localhost:8080/"
        },
        "id": "rTvDOvDt--x_",
        "outputId": "2f6b496f-2e54-47ad-c8b7-28311ff7c0df"
      },
      "outputs": [
        {
          "output_type": "stream",
          "name": "stdout",
          "text": [
            "366\n"
          ]
        },
        {
          "output_type": "execute_result",
          "data": {
            "text/plain": [
              "(366, 1)"
            ]
          },
          "metadata": {},
          "execution_count": 27
        }
      ],
      "source": [
        "#create the testing data set\n",
        "#create an new array ontained rest of scaled value (0,1)\n",
        "test_data = scaled_data[training_data_len - 60:, :]\n",
        "#create the data set x_test and y_test\n",
        "x_test = []\n",
        "y_test = dataset[training_data_len:, :]\n",
        "\n",
        "#idea here is we use rest of scaled data （scaled_data * 20%)\n",
        "#start from index 60 of test_data, in group of 60, and we put 60 numbers into x_test\n",
        "\n",
        "for i in range(60, len(test_data)):\n",
        "  x_test.append(test_data[i-60:i, 0])\n",
        "print(len(x_test))\n",
        "y_test.shape"
      ]
    },
    {
      "cell_type": "code",
      "execution_count": 28,
      "metadata": {
        "colab": {
          "base_uri": "https://localhost:8080/"
        },
        "id": "yYPjhIlaBl_w",
        "outputId": "eff9c65a-e5cb-4fea-cfa2-787c2edc0841"
      },
      "outputs": [
        {
          "output_type": "execute_result",
          "data": {
            "text/plain": [
              "array([[0.73755278, 0.70101213, 0.70809358, ..., 0.9693361 , 0.96602486,\n",
              "        0.96071548],\n",
              "       [0.70101213, 0.70809358, 0.68639833, ..., 0.96602486, 0.96071548,\n",
              "        0.94615157],\n",
              "       [0.70809358, 0.68639833, 0.60804133, ..., 0.96071548, 0.94615157,\n",
              "        0.87399535],\n",
              "       ...,\n",
              "       [0.32794398, 0.29345389, 0.2851528 , ..., 0.25702476, 0.25443506,\n",
              "        0.24767655],\n",
              "       [0.29345389, 0.2851528 , 0.29304106, ..., 0.25443506, 0.24767655,\n",
              "        0.24060154],\n",
              "       [0.2851528 , 0.29304106, 0.26461067, ..., 0.24767655, 0.24060154,\n",
              "        0.24478638]])"
            ]
          },
          "metadata": {},
          "execution_count": 28
        }
      ],
      "source": [
        "#convert the data to a numpy array\n",
        "x_test = np.array(x_test)\n",
        "x_test"
      ]
    },
    {
      "cell_type": "code",
      "execution_count": 29,
      "metadata": {
        "id": "hG33aiHNDLco"
      },
      "outputs": [],
      "source": [
        "#reshape the data x_test to 3-D for LSTM\n",
        "x_test = np.reshape(x_test, (x_test.shape[0], x_test.shape[1], 1))"
      ]
    },
    {
      "cell_type": "code",
      "execution_count": 30,
      "metadata": {
        "colab": {
          "base_uri": "https://localhost:8080/"
        },
        "id": "tPskymt_DeJd",
        "outputId": "565b18af-ecff-438b-8106-4c793073d342"
      },
      "outputs": [
        {
          "output_type": "stream",
          "name": "stdout",
          "text": [
            "12/12 [==============================] - 1s 21ms/step\n"
          ]
        }
      ],
      "source": [
        "#get the model predicted price values\n",
        "#use the model with x_test values to get the predicted y\n",
        "predictions = model.predict(x_test)\n",
        "#unscalling the values, use inverse the scaled value to noraml value\n",
        "#we want predictions contain the same values as y_test data set\n",
        "predictions = scaler.inverse_transform(predictions)"
      ]
    },
    {
      "cell_type": "code",
      "execution_count": 31,
      "metadata": {
        "colab": {
          "base_uri": "https://localhost:8080/"
        },
        "id": "DkXw_kq2FO80",
        "outputId": "a82555b5-7049-4994-c336-1fcda3971cb6"
      },
      "outputs": [
        {
          "output_type": "execute_result",
          "data": {
            "text/plain": [
              "252.2541455760758"
            ]
          },
          "metadata": {},
          "execution_count": 31
        }
      ],
      "source": [
        "#evaluate the model preform\n",
        "#get the root mean squares error(RMSE)\n",
        "#RMSE is measure of how accurate the model predicts\n",
        "#RMSE is the standard deviation of the residuals\n",
        "\n",
        "#predictions: get from model with x_test\n",
        "#y_test: the actural value from data set\n",
        "rmse = np.sqrt(np.mean(predictions - y_test)** 2)\n",
        "rmse"
      ]
    },
    {
      "cell_type": "code",
      "execution_count": 32,
      "metadata": {
        "colab": {
          "base_uri": "https://localhost:8080/",
          "height": 666
        },
        "id": "yA6OvAnYLpgC",
        "outputId": "da9a688f-efcb-41ec-d643-22ab80762c5c"
      },
      "outputs": [
        {
          "output_type": "stream",
          "name": "stderr",
          "text": [
            "<ipython-input-32-ed90e6fa3c19>:6: SettingWithCopyWarning: \n",
            "A value is trying to be set on a copy of a slice from a DataFrame.\n",
            "Try using .loc[row_indexer,col_indexer] = value instead\n",
            "\n",
            "See the caveats in the documentation: https://pandas.pydata.org/pandas-docs/stable/user_guide/indexing.html#returning-a-view-versus-a-copy\n",
            "  valid['Predictions'] = predictions\n"
          ]
        },
        {
          "output_type": "display_data",
          "data": {
            "text/plain": [
              "<Figure size 1152x576 with 1 Axes>"
            ],
            "image/png": "[encoded data removed]"
          },
          "metadata": {}
        }
      ],
      "source": [
        "#plot the data\n",
        "#80% data as train data\n",
        "train = data[:training_data_len]\n",
        "#20% data as valid data\n",
        "valid = data[training_data_len:]\n",
        "valid['Predictions'] = predictions\n",
        "\n",
        "#visualize the data\n",
        "plt.figure(figsize=(16,8))\n",
        "plt.title('LSTM model')\n",
        "plt.xlabel('Date',fontsize = 18)\n",
        "plt.ylabel('Close Price (USD)', fontsize = 18)\n",
        "plt.plot(train['Close'])\n",
        "plt.plot(valid[['Close', 'Predictions']])\n",
        "# plt.plot(valid['Predictions'])\n",
        "plt.legend(['Train', 'Val', 'Predictions'], loc='upper left')\n",
        "plt.show()\n"
      ]
    },
    {
      "cell_type": "code",
      "source": [
        "valid['Date'] = df['Date'][training_data_len:]"
      ],
      "metadata": {
        "id": "0NBHygp3vLsu",
        "outputId": "2eb99eb0-f080-4b4c-c640-d4ea6f5feb83",
        "colab": {
          "base_uri": "https://localhost:8080/"
        }
      },
      "execution_count": 33,
      "outputs": [
        {
          "output_type": "stream",
          "name": "stderr",
          "text": [
            "<ipython-input-33-f9065f1232f0>:1: SettingWithCopyWarning: \n",
            "A value is trying to be set on a copy of a slice from a DataFrame.\n",
            "Try using .loc[row_indexer,col_indexer] = value instead\n",
            "\n",
            "See the caveats in the documentation: https://pandas.pydata.org/pandas-docs/stable/user_guide/indexing.html#returning-a-view-versus-a-copy\n",
            "  valid['Date'] = df['Date'][training_data_len:]\n"
          ]
        }
      ]
    },
    {
      "cell_type": "code",
      "execution_count": 34,
      "metadata": {
        "colab": {
          "base_uri": "https://localhost:8080/",
          "height": 424
        },
        "id": "tlrQZq98SmBD",
        "outputId": "39eadca9-ffbb-4dbb-9766-c61f88920f6a"
      },
      "outputs": [
        {
          "output_type": "execute_result",
          "data": {
            "text/plain": [
              "            Close  Predictions       Date\n",
              "1467  4557.503906  3874.108398 2021-11-15\n",
              "1468  4216.365234  3850.733154 2021-11-16\n",
              "1469  4287.593750  3775.350098 2021-11-17\n",
              "1470  4000.650879  3706.552002 2021-11-18\n",
              "1471  4298.306641  3608.448730 2021-11-19\n",
              "...           ...          ...        ...\n",
              "1828  1287.221069  1301.607910 2022-11-11\n",
              "1829  1255.268311  1264.300171 2022-11-12\n",
              "1830  1221.819214  1236.392456 2022-11-13\n",
              "1831  1241.604248  1213.276611 2022-11-14\n",
              "1832  1253.259399  1199.227661 2022-11-15\n",
              "\n",
              "[366 rows x 3 columns]"
            ],
            "text/html": [
              "\n",
              "  <div id=\"df-8b8b338f-00d3-4dfe-bbfa-2da04f6b80ad\">\n",
              "    <div class=\"colab-df-container\">\n",
              "      <div>\n",
              "<style scoped>\n",
              "    .dataframe tbody tr th:only-of-type {\n",
              "        vertical-align: middle;\n",
              "    }\n",
              "\n",
              "    .dataframe tbody tr th {\n",
              "        vertical-align: top;\n",
              "    }\n",
              "\n",
              "    .dataframe thead th {\n",
              "        text-align: right;\n",
              "    }\n",
              "</style>\n",
              "<table border=\"1\" class=\"dataframe\">\n",
              "  <thead>\n",
              "    <tr style=\"text-align: right;\">\n",
              "      <th></th>\n",
              "      <th>Close</th>\n",
              "      <th>Predictions</th>\n",
              "      <th>Date</th>\n",
              "    </tr>\n",
              "  </thead>\n",
              "  <tbody>\n",
              "    <tr>\n",
              "      <th>1467</th>\n",
              "      <td>4557.503906</td>\n",
              "      <td>3874.108398</td>\n",
              "      <td>2021-11-15</td>\n",
              "    </tr>\n",
              "    <tr>\n",
              "      <th>1468</th>\n",
              "      <td>4216.365234</td>\n",
              "      <td>3850.733154</td>\n",
              "      <td>2021-11-16</td>\n",
              "    </tr>\n",
              "    <tr>\n",
              "      <th>1469</th>\n",
              "      <td>4287.593750</td>\n",
              "      <td>3775.350098</td>\n",
              "      <td>2021-11-17</td>\n",
              "    </tr>\n",
              "    <tr>\n",
              "      <th>1470</th>\n",
              "      <td>4000.650879</td>\n",
              "      <td>3706.552002</td>\n",
              "      <td>2021-11-18</td>\n",
              "    </tr>\n",
              "    <tr>\n",
              "      <th>1471</th>\n",
              "      <td>4298.306641</td>\n",
              "      <td>3608.448730</td>\n",
              "      <td>2021-11-19</td>\n",
              "    </tr>\n",
              "    <tr>\n",
              "      <th>...</th>\n",
              "      <td>...</td>\n",
              "      <td>...</td>\n",
              "      <td>...</td>\n",
              "    </tr>\n",
              "    <tr>\n",
              "      <th>1828</th>\n",
              "      <td>1287.221069</td>\n",
              "      <td>1301.607910</td>\n",
              "      <td>2022-11-11</td>\n",
              "    </tr>\n",
              "    <tr>\n",
              "      <th>1829</th>\n",
              "      <td>1255.268311</td>\n",
              "      <td>1264.300171</td>\n",
              "      <td>2022-11-12</td>\n",
              "    </tr>\n",
              "    <tr>\n",
              "      <th>1830</th>\n",
              "      <td>1221.819214</td>\n",
              "      <td>1236.392456</td>\n",
              "      <td>2022-11-13</td>\n",
              "    </tr>\n",
              "    <tr>\n",
              "      <th>1831</th>\n",
              "      <td>1241.604248</td>\n",
              "      <td>1213.276611</td>\n",
              "      <td>2022-11-14</td>\n",
              "    </tr>\n",
              "    <tr>\n",
              "      <th>1832</th>\n",
              "      <td>1253.259399</td>\n",
              "      <td>1199.227661</td>\n",
              "      <td>2022-11-15</td>\n",
              "    </tr>\n",
              "  </tbody>\n",
              "</table>\n",
              "<p>366 rows × 3 columns</p>\n",
              "</div>\n",
              "      <button class=\"colab-df-convert\" onclick=\"convertToInteractive('df-8b8b338f-00d3-4dfe-bbfa-2da04f6b80ad')\"\n",
              "              title=\"Convert this dataframe to an interactive table.\"\n",
              "              style=\"display:none;\">\n",
              "        \n",
              "  <svg xmlns=\"http://www.w3.org/2000/svg\" height=\"24px\"viewBox=\"0 0 24 24\"\n",
              "       width=\"24px\">\n",
              "    <path d=\"M0 0h24v24H0V0z\" fill=\"none\"/>\n",
              "    <path d=\"M18.56 5.44l.94 2.06.94-2.06 2.06-.94-2.06-.94-.94-2.06-.94 2.06-2.06.94zm-11 1L8.5 8.5l.94-2.06 2.06-.94-2.06-.94L8.5 2.5l-.94 2.06-2.06.94zm10 10l.94 2.06.94-2.06 2.06-.94-2.06-.94-.94-2.06-.94 2.06-2.06.94z\"/><path d=\"M17.41 7.96l-1.37-1.37c-.4-.4-.92-.59-1.43-.59-.52 0-1.04.2-1.43.59L10.3 9.45l-7.72 7.72c-.78.78-.78 2.05 0 2.83L4 21.41c.39.39.9.59 1.41.59.51 0 1.02-.2 1.41-.59l7.78-7.78 2.81-2.81c.8-.78.8-2.07 0-2.86zM5.41 20L4 18.59l7.72-7.72 1.47 1.35L5.41 20z\"/>\n",
              "  </svg>\n",
              "      </button>\n",
              "      \n",
              "  <style>\n",
              "    .colab-df-container {\n",
              "      display:flex;\n",
              "      flex-wrap:wrap;\n",
              "      gap: 12px;\n",
              "    }\n",
              "\n",
              "    .colab-df-convert {\n",
              "      background-color: #E8F0FE;\n",
              "      border: none;\n",
              "      border-radius: 50%;\n",
              "      cursor: pointer;\n",
              "      display: none;\n",
              "      fill: #1967D2;\n",
              "      height: 32px;\n",
              "      padding: 0 0 0 0;\n",
              "      width: 32px;\n",
              "    }\n",
              "\n",
              "    .colab-df-convert:hover {\n",
              "      background-color: #E2EBFA;\n",
              "      box-shadow: 0px 1px 2px rgba(60, 64, 67, 0.3), 0px 1px 3px 1px rgba(60, 64, 67, 0.15);\n",
              "      fill: #174EA6;\n",
              "    }\n",
              "\n",
              "    [theme=dark] .colab-df-convert {\n",
              "      background-color: #3B4455;\n",
              "      fill: #D2E3FC;\n",
              "    }\n",
              "\n",
              "    [theme=dark] .colab-df-convert:hover {\n",
              "      background-color: #434B5C;\n",
              "      box-shadow: 0px 1px 3px 1px rgba(0, 0, 0, 0.15);\n",
              "      filter: drop-shadow(0px 1px 2px rgba(0, 0, 0, 0.3));\n",
              "      fill: #FFFFFF;\n",
              "    }\n",
              "  </style>\n",
              "\n",
              "      <script>\n",
              "        const buttonEl =\n",
              "          document.querySelector('#df-8b8b338f-00d3-4dfe-bbfa-2da04f6b80ad button.colab-df-convert');\n",
              "        buttonEl.style.display =\n",
              "          google.colab.kernel.accessAllowed ? 'block' : 'none';\n",
              "\n",
              "        async function convertToInteractive(key) {\n",
              "          const element = document.querySelector('#df-8b8b338f-00d3-4dfe-bbfa-2da04f6b80ad');\n",
              "          const dataTable =\n",
              "            await google.colab.kernel.invokeFunction('convertToInteractive',\n",
              "                                                     [key], {});\n",
              "          if (!dataTable) return;\n",
              "\n",
              "          const docLinkHtml = 'Like what you see? Visit the ' +\n",
              "            '<a target=\"_blank\" href=https://colab.research.google.com/notebooks/data_table.ipynb>data table notebook</a>'\n",
              "            + ' to learn more about interactive tables.';\n",
              "          element.innerHTML = '';\n",
              "          dataTable['output_type'] = 'display_data';\n",
              "          await google.colab.output.renderOutput(dataTable, element);\n",
              "          const docLink = document.createElement('div');\n",
              "          docLink.innerHTML = docLinkHtml;\n",
              "          element.appendChild(docLink);\n",
              "        }\n",
              "      </script>\n",
              "    </div>\n",
              "  </div>\n",
              "  "
            ]
          },
          "metadata": {},
          "execution_count": 34
        }
      ],
      "source": [
        "#show the valid and predicted prices\n",
        "valid"
      ]
    },
    {
      "cell_type": "markdown",
      "source": [
        "#save cvs file in google drive"
      ],
      "metadata": {
        "id": "J2EhHILEjhGv"
      }
    },
    {
      "cell_type": "code",
      "source": [
        "from google.colab import drive\n",
        "# drive.mount('drive')\n",
        "drive.mount(\"drive\", force_remount=True)\n",
        "valid.to_csv('data.csv')\n",
        "!cp data.csv \"drive/My Drive/Colab Notebooks/\""
      ],
      "metadata": {
        "colab": {
          "base_uri": "https://localhost:8080/"
        },
        "id": "EOOmFxv29gNf",
        "outputId": "c64b3384-3222-40a3-8bd1-3f337cac54b3"
      },
      "execution_count": 35,
      "outputs": [
        {
          "output_type": "stream",
          "name": "stdout",
          "text": [
            "Mounted at drive\n"
          ]
        }
      ]
    },
    {
      "cell_type": "markdown",
      "source": [
        "**using the last 60 data to predict the stock price**"
      ],
      "metadata": {
        "id": "V38zfMCjtNzL"
      }
    },
    {
      "cell_type": "code",
      "source": [
        "quote = df\n",
        "#create the new data frame\n",
        "new_df = quote.filter(['Close'])\n",
        "#get last 60 days values and convert them into array to predict the 61st value\n",
        "last_60 = new_df[-60:].values\n",
        "#scale the data using scaler (value between 0 and 1)\n",
        "#use transform for test values instead train values\n",
        "last_60_scaled = scaler.transform(last_60)\n",
        "#create x_test_60\n",
        "x_test_60 = []\n",
        "\n",
        "x_test_60.append(last_60_scaled)\n",
        "#convert the x_test_60 to array\n",
        "x_test_60 = np.array(x_test_60)\n",
        "#reshape the data to 3-D\n",
        "x_test_60 = np.reshape(x_test_60, (x_test_60.shape[0], x_test_60.shape[1],1))\n",
        "#get predicted scaled price by modle and x_test_60\n",
        "predict_price = model.predict(x_test_60)\n",
        "#inverse the scaled price to normal price\n",
        "predict_price = scaler.inverse_transform(predict_price)\n",
        "result = float(predict_price[0])\n",
        "print(predict_price) \n",
        "print(result)\n"
      ],
      "metadata": {
        "colab": {
          "base_uri": "https://localhost:8080/"
        },
        "id": "rE8cvDD-S7NX",
        "outputId": "5a884510-5c9c-470d-dd96-42625ed1f3bd"
      },
      "execution_count": 36,
      "outputs": [
        {
          "output_type": "stream",
          "name": "stdout",
          "text": [
            "1/1 [==============================] - 0s 40ms/step\n",
            "[[1193.4417]]\n",
            "1193.441650390625\n"
          ]
        }
      ]
    },
    {
      "cell_type": "code",
      "source": [
        "import pandas as pd\n",
        "from google.colab import drive\n",
        "# drive.mount('pre')\n",
        "drive.mount(\"drive\", force_remount=True)\n",
        "list_pred = [result]\n",
        "predicted = pd.DataFrame(list_pred, columns = ['predict'])\n",
        "predicted"
      ],
      "metadata": {
        "colab": {
          "base_uri": "https://localhost:8080/",
          "height": 99
        },
        "id": "qo_75-hOanq-",
        "outputId": "78b138e7-fdb3-4eee-fd38-2031ef2b9790"
      },
      "execution_count": 37,
      "outputs": [
        {
          "output_type": "stream",
          "name": "stdout",
          "text": [
            "Mounted at drive\n"
          ]
        },
        {
          "output_type": "execute_result",
          "data": {
            "text/plain": [
              "      predict\n",
              "0  1193.44165"
            ],
            "text/html": [
              "\n",
              "  <div id=\"df-496a426e-ab4e-4e63-b25f-dded2e56837e\">\n",
              "    <div class=\"colab-df-container\">\n",
              "      <div>\n",
              "<style scoped>\n",
              "    .dataframe tbody tr th:only-of-type {\n",
              "        vertical-align: middle;\n",
              "    }\n",
              "\n",
              "    .dataframe tbody tr th {\n",
              "        vertical-align: top;\n",
              "    }\n",
              "\n",
              "    .dataframe thead th {\n",
              "        text-align: right;\n",
              "    }\n",
              "</style>\n",
              "<table border=\"1\" class=\"dataframe\">\n",
              "  <thead>\n",
              "    <tr style=\"text-align: right;\">\n",
              "      <th></th>\n",
              "      <th>predict</th>\n",
              "    </tr>\n",
              "  </thead>\n",
              "  <tbody>\n",
              "    <tr>\n",
              "      <th>0</th>\n",
              "      <td>1193.44165</td>\n",
              "    </tr>\n",
              "  </tbody>\n",
              "</table>\n",
              "</div>\n",
              "      <button class=\"colab-df-convert\" onclick=\"convertToInteractive('df-496a426e-ab4e-4e63-b25f-dded2e56837e')\"\n",
              "              title=\"Convert this dataframe to an interactive table.\"\n",
              "              style=\"display:none;\">\n",
              "        \n",
              "  <svg xmlns=\"http://www.w3.org/2000/svg\" height=\"24px\"viewBox=\"0 0 24 24\"\n",
              "       width=\"24px\">\n",
              "    <path d=\"M0 0h24v24H0V0z\" fill=\"none\"/>\n",
              "    <path d=\"M18.56 5.44l.94 2.06.94-2.06 2.06-.94-2.06-.94-.94-2.06-.94 2.06-2.06.94zm-11 1L8.5 8.5l.94-2.06 2.06-.94-2.06-.94L8.5 2.5l-.94 2.06-2.06.94zm10 10l.94 2.06.94-2.06 2.06-.94-2.06-.94-.94-2.06-.94 2.06-2.06.94z\"/><path d=\"M17.41 7.96l-1.37-1.37c-.4-.4-.92-.59-1.43-.59-.52 0-1.04.2-1.43.59L10.3 9.45l-7.72 7.72c-.78.78-.78 2.05 0 2.83L4 21.41c.39.39.9.59 1.41.59.51 0 1.02-.2 1.41-.59l7.78-7.78 2.81-2.81c.8-.78.8-2.07 0-2.86zM5.41 20L4 18.59l7.72-7.72 1.47 1.35L5.41 20z\"/>\n",
              "  </svg>\n",
              "      </button>\n",
              "      \n",
              "  <style>\n",
              "    .colab-df-container {\n",
              "      display:flex;\n",
              "      flex-wrap:wrap;\n",
              "      gap: 12px;\n",
              "    }\n",
              "\n",
              "    .colab-df-convert {\n",
              "      background-color: #E8F0FE;\n",
              "      border: none;\n",
              "      border-radius: 50%;\n",
              "      cursor: pointer;\n",
              "      display: none;\n",
              "      fill: #1967D2;\n",
              "      height: 32px;\n",
              "      padding: 0 0 0 0;\n",
              "      width: 32px;\n",
              "    }\n",
              "\n",
              "    .colab-df-convert:hover {\n",
              "      background-color: #E2EBFA;\n",
              "      box-shadow: 0px 1px 2px rgba(60, 64, 67, 0.3), 0px 1px 3px 1px rgba(60, 64, 67, 0.15);\n",
              "      fill: #174EA6;\n",
              "    }\n",
              "\n",
              "    [theme=dark] .colab-df-convert {\n",
              "      background-color: #3B4455;\n",
              "      fill: #D2E3FC;\n",
              "    }\n",
              "\n",
              "    [theme=dark] .colab-df-convert:hover {\n",
              "      background-color: #434B5C;\n",
              "      box-shadow: 0px 1px 3px 1px rgba(0, 0, 0, 0.15);\n",
              "      filter: drop-shadow(0px 1px 2px rgba(0, 0, 0, 0.3));\n",
              "      fill: #FFFFFF;\n",
              "    }\n",
              "  </style>\n",
              "\n",
              "      <script>\n",
              "        const buttonEl =\n",
              "          document.querySelector('#df-496a426e-ab4e-4e63-b25f-dded2e56837e button.colab-df-convert');\n",
              "        buttonEl.style.display =\n",
              "          google.colab.kernel.accessAllowed ? 'block' : 'none';\n",
              "\n",
              "        async function convertToInteractive(key) {\n",
              "          const element = document.querySelector('#df-496a426e-ab4e-4e63-b25f-dded2e56837e');\n",
              "          const dataTable =\n",
              "            await google.colab.kernel.invokeFunction('convertToInteractive',\n",
              "                                                     [key], {});\n",
              "          if (!dataTable) return;\n",
              "\n",
              "          const docLinkHtml = 'Like what you see? Visit the ' +\n",
              "            '<a target=\"_blank\" href=https://colab.research.google.com/notebooks/data_table.ipynb>data table notebook</a>'\n",
              "            + ' to learn more about interactive tables.';\n",
              "          element.innerHTML = '';\n",
              "          dataTable['output_type'] = 'display_data';\n",
              "          await google.colab.output.renderOutput(dataTable, element);\n",
              "          const docLink = document.createElement('div');\n",
              "          docLink.innerHTML = docLinkHtml;\n",
              "          element.appendChild(docLink);\n",
              "        }\n",
              "      </script>\n",
              "    </div>\n",
              "  </div>\n",
              "  "
            ]
          },
          "metadata": {},
          "execution_count": 37
        }
      ]
    },
    {
      "cell_type": "markdown",
      "source": [
        "#save final predicted close price in cvs and upload to google drive"
      ],
      "metadata": {
        "id": "uwOJ57KjjnOA"
      }
    },
    {
      "cell_type": "code",
      "source": [
        "from google.colab import drive\n",
        "# drive.mount('drive')\n",
        "drive.mount(\"drive\", force_remount=True)\n",
        "predicted.to_csv('drive/MyDrive/Colab Notebooks/sample.csv', index=False)"
      ],
      "metadata": {
        "colab": {
          "base_uri": "https://localhost:8080/"
        },
        "id": "eDMeDf4QhIHS",
        "outputId": "be503704-98de-40d2-f1e7-39d83350a051"
      },
      "execution_count": 38,
      "outputs": [
        {
          "output_type": "stream",
          "name": "stdout",
          "text": [
            "Mounted at drive\n"
          ]
        }
      ]
    }
  ],
  "metadata": {
    "colab": {
      "provenance": [],
      "include_colab_link": true
    },
    "kernelspec": {
      "display_name": "Python 3.9.7 ('base')",
      "language": "python",
      "name": "python3"
    },
    "language_info": {
      "codemirror_mode": {
        "name": "ipython",
        "version": 3
      },
      "file_extension": ".py",
      "mimetype": "text/x-python",
      "name": "python",
      "nbconvert_exporter": "python",
      "pygments_lexer": "ipython3",
      "version": "3.9.7"
    },
    "vscode": {
      "interpreter": {
        "hash": "dffeda8e72e707d8bdaa5a3882a0d48def7b9fd5b84c27854cc531f03481755b"
      }
    }
  },
  "nbformat": 4,
  "nbformat_minor": 0
}